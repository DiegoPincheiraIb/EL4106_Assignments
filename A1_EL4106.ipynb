{
  "nbformat": 4,
  "nbformat_minor": 0,
  "metadata": {
    "colab": {
      "name": "Tarea1_EL4106.ipynb",
      "provenance": [],
      "collapsed_sections": [],
      "machine_shape": "hm",
      "authorship_tag": "ABX9TyPTuHHwDCqB9KrDomAqRjgK",
      "include_colab_link": true
    },
    "kernelspec": {
      "name": "python3",
      "display_name": "Python 3"
    },
    "accelerator": "GPU"
  },
  "cells": [
    {
      "cell_type": "markdown",
      "metadata": {
        "id": "view-in-github",
        "colab_type": "text"
      },
      "source": [
        "<a href=\"https://colab.research.google.com/github/DiegoPincheiraIb/EL4106_Assignments/blob/main/A1_EL4106.ipynb\" target=\"_parent\"><img src=\"https://colab.research.google.com/assets/colab-badge.svg\" alt=\"Open In Colab\"/></a>"
      ]
    },
    {
      "cell_type": "markdown",
      "metadata": {
        "id": "yXqGdaIkMbPg"
      },
      "source": [
        ""
      ]
    },
    {
      "cell_type": "code",
      "metadata": {
        "id": "zE8zhg1rMbg_"
      },
      "source": [
        "import pandas as pd\n",
        "import matplotlib.pyplot as plt\n",
        "import numpy as np\n",
        "from google.colab import files\n",
        "pd.set_option('display.max_columns', 500)\n",
        "pd.set_option('display.width', 1000)"
      ],
      "execution_count": null,
      "outputs": []
    },
    {
      "cell_type": "markdown",
      "metadata": {
        "id": "r9ygSbKCMdQC"
      },
      "source": [
        ""
      ]
    },
    {
      "cell_type": "code",
      "metadata": {
        "id": "i4Bz9e2-Mdgb"
      },
      "source": [
        "##### -------- P2 -------\n",
        "uploaded = files.upload()\n",
        "datos = pd.read_csv(\"HTRU_2.csv\",names=['mean_prof','std_prof','exkurt_prof','skew_prof','mean_curve','std_curve','exkurt_curve','skew_curve','Class'])\n",
        "# Aquí yo reemplaze 'class' por 'Class' debido a que en la pregunta 10 y 12 una función no me retornaba el nombre del par correctamente si esta tenía un argumento llamado 'class'.\n",
        "#print('Se tiene a continuación los datos importados:')\n",
        "#print(datos)"
      ],
      "execution_count": null,
      "outputs": []
    },
    {
      "cell_type": "markdown",
      "metadata": {
        "id": "yjMPQ1H3Mbuv"
      },
      "source": [
        "## Separación de datos"
      ]
    },
    {
      "cell_type": "code",
      "metadata": {
        "id": "LGDo7ZUhMmx4"
      },
      "source": [
        "##### -------- P3 -------\n",
        "datos_pulsar = datos.loc[datos['Class'] == 1]\n",
        "datos_no_pulsar = datos.loc[datos['Class'] == 0]\n",
        "\n",
        "print('Los datos correspondientes a la clase \"pulsar\" son los siguientes:')\n",
        "print(datos_pulsar)\n",
        "print('Los datos correspondientes a la clase no \"pulsar\" son los siguientes:')\n",
        "print(datos_no_pulsar)\n",
        "print ('---------------------------------')"
      ],
      "execution_count": null,
      "outputs": []
    },
    {
      "cell_type": "markdown",
      "metadata": {
        "id": "SGTp9FirMm-M"
      },
      "source": [
        ""
      ]
    },
    {
      "cell_type": "code",
      "metadata": {
        "id": "oX0fReo6W3yc"
      },
      "source": [
        "##### -------- P4 -------\n",
        "kwargs = dict(histtype='stepfilled',alpha=0.8, bins=20)\n",
        "\n",
        "\n",
        "### --- mean_prof ---\n",
        "print('El histograma para la categoría \"mean_prof\" es la siguiente:')\n",
        "plt.hist(datos_pulsar['mean_prof'],label='datos pulsar', **kwargs)\n",
        "plt.hist(datos_no_pulsar['mean_prof'],label='datos no pulsar', **kwargs)\n",
        "plt.legend(loc='best')\n",
        "plt.title('Histograma de la característica \"mean_prof\" ')\n",
        "\n",
        "### --- std_prof ---\n",
        "print('El histograma para la categoría \"std_prof\" es la siguiente:')\n",
        "plt.hist(datos_pulsar['std_prof'],label='datos pulsar', **kwargs)\n",
        "plt.hist(datos_no_pulsar['std_prof'],label='datos no pulsar', **kwargs)\n",
        "plt.legend(loc='best')\n",
        "plt.title('Histograma de la característica \"std_prof\" ')\n",
        "\n",
        "\n",
        "### --- exkurt_prof ---\n",
        "print('El histograma para la categoría \"exkurt_prof\" es la siguiente:')\n",
        "plt.hist(datos_pulsar['exkurt_prof'],label='datos pulsar', **kwargs)\n",
        "plt.hist(datos_no_pulsar['exkurt_prof'],label='datos no pulsar', **kwargs)\n",
        "plt.legend(loc='best')\n",
        "plt.title('Histograma de la característica \"exkurt_prof\" ')\n",
        "\n",
        "### --- skew_prof ---\n",
        "print('El histograma para la categoría \"skew_prof\" es la siguiente:')\n",
        "plt.hist(datos_pulsar['skew_prof'],label='datos pulsar', **kwargs)\n",
        "plt.hist(datos_no_pulsar['skew_prof'],label='datos no pulsar', **kwargs)\n",
        "plt.legend(loc='best')\n",
        "plt.title('Histograma de la característica \"skew_prof\" ')\n",
        "\n",
        "### --- mean_curve ---\n",
        "print('El histograma para la categoría \"mean_curve\" es la siguiente:')\n",
        "plt.hist(datos_pulsar['mean_curve'],label='datos pulsar', **kwargs)\n",
        "plt.hist(datos_no_pulsar['mean_curve'],label='datos no pulsar', **kwargs)\n",
        "plt.legend(loc='best')\n",
        "plt.title('Histograma de la característica \"mean_curve\" ')\n",
        "\n",
        "### --- std_curve ---\n",
        "print('El histograma para la categoría \"std_curve\" es la siguiente:')\n",
        "plt.hist(datos_pulsar['std_curve'],label='datos pulsar', **kwargs)\n",
        "plt.hist(datos_no_pulsar['std_curve'],label='datos no pulsar', **kwargs)\n",
        "plt.legend(loc='best')\n",
        "plt.title('Histograma de la característica \"std_curve\" ')\n",
        "\n",
        "### --- exkurt_curve ---\n",
        "print('El histograma para la categoría \"exkurt_curve\" es la siguiente:')\n",
        "plt.hist(datos_pulsar['exkurt_curve'],label='datos pulsar', **kwargs)\n",
        "plt.hist(datos_no_pulsar['exkurt_curve'],label='datos no pulsar', **kwargs)\n",
        "plt.legend(loc='best')\n",
        "plt.title('Histograma de la característica \"exkurt_curve\" ')\n",
        "\n",
        "### --- skew_curve ---\n",
        "print('El histograma para la categoría \"skew_curve\" es la siguiente:')\n",
        "plt.hist(datos_pulsar['skew_curve'],label='datos pulsar', **kwargs)\n",
        "plt.hist(datos_no_pulsar['skew_curve'],label='datos no pulsar', **kwargs)\n",
        "plt.legend(loc='best')\n",
        "plt.title('Histograma de la característica \"skew_curve\" ')\n",
        "\n",
        "print ('---------------------------------')\n",
        "\n",
        "\n",
        "\n",
        "\n",
        "##### -------- P5 -------\n",
        "### -------- Skewness -------\n",
        "skew_datos_pulsar = datos_pulsar.skew()\n",
        "skew_datos_no_pulsar = datos_no_pulsar.skew()\n",
        "print('Skewness de los datos pulsar:')\n",
        "print(skew_datos_pulsar)\n",
        "print('Skewness de los datos no pulsar:')\n",
        "print(skew_datos_no_pulsar)\n",
        "print ('---------------------------------')\n",
        "### -------- Kurtosis -------\n",
        "kurtosis_datos_pulsar = datos_pulsar.kurtosis()\n",
        "kurtosis_datos_no_pulsar = datos_no_pulsar.kurtosis()\n",
        "print('Kurtosis de los datos pulsar:')\n",
        "print(kurtosis_datos_pulsar)\n",
        "print('Kurtosis de los datos no pulsar:')\n",
        "print(kurtosis_datos_no_pulsar)\n",
        "print ('---------------------------------')\n",
        "\n",
        "##### -------- P6 -------\n",
        "# P6 respondida en informe\n",
        "##### -------- P7 -------\n",
        "\n",
        "def Corr(Y):\n",
        "  MatrizA = Y.sub(pd.DataFrame.mean(Y),axis='columns')\n",
        "  MatrizA_T = pd.DataFrame.transpose(MatrizA)\n",
        "  Z = MatrizA_T.dot(MatrizA)\n",
        "  Cov = Z.copy()\n",
        "  for row in Cov:\n",
        "    for column in Cov:\n",
        "      Cov.loc[row,column] = np.divide(Z.loc[row,column],len(datos)-1) \n",
        "  Corre = Cov.copy()\n",
        "  for row in Corre:\n",
        "    for column in Corre:\n",
        "      TotalNum = np.sqrt(np.multiply(Cov.loc[row,row],Cov.loc[column,column]))\n",
        "      Corre.loc[row,column] = np.divide(Cov.loc[row,column], TotalNum) \n",
        "  return Corre\n",
        "\n",
        "##### -------- P8 -------\n",
        "print('Matriz de Correlacion:')\n",
        "print(Corr(datos))\n",
        "\n",
        "Correlacion = datos.corr()\n",
        "\n",
        "print('Matriz de Correlacion mediante funcion integrada en Pandas:')\n",
        "print(Correlacion)\n",
        "\n",
        "##### -------- P9  -------\n",
        "\n",
        "def Elem_Correlax(datox,columna, direccion):\n",
        "  dato = datox[[columna]].copy()\n",
        "  dato.sort_values(by = columna,inplace=True, ascending = direccion)\n",
        "  newdato = dato.copy()\n",
        "  if direccion == False:\n",
        "    newdato = newdato.iloc[1:6]\n",
        "    print('Las caracteristicas más relacionadas con la clase se presentan a continuación,')\n",
        "    print('junto con sus correspondientes coeficientes de correlación:')\n",
        "    print(newdato)\n",
        "  else:\n",
        "    newdato = newdato.iloc[0:5]\n",
        "    print('Las caracteristicas menos relacionadas con la clase se presentan a continuación,')\n",
        "    print('junto con sus correspondientes coeficientes de correlación:')\n",
        "    print(newdato)\n",
        "  \n",
        "\n",
        "#Elem_Correlax(Corr(datos),'Class', False)\n",
        "\n",
        "\n",
        "\n",
        "### ------ Funciones y Variables Utilizadas:\n",
        "\n",
        "def ConversorLista(datodato):\n",
        "  for i in range(0,len(datodato.dropna())):\n",
        "    nuevodato = list(datodato.dropna().itertuples())[i]\n",
        "    Lista.append(nuevodato)\n",
        "\n",
        "def Ordenador(MatrizCorrelacion, Boolean):\n",
        "  MatrizObj = MatrizCorrelacion.copy()\n",
        "  MatrizMasking = MatrizObj.mask(np.tril(np.ones(MatrizObj.shape)).astype(np.bool))\n",
        "  ListaColumnas = MatrizCorrelacion.columns.tolist()\n",
        "  for i in ListaColumnas:\n",
        "    ConversorLista(MatrizMasking[[i]].copy())\n",
        "  ListaOrdenada = sorted(Lista, key=lambda valores: valores[1],reverse = Boolean)\n",
        "  if Boolean == True:\n",
        "    print('Las 5 pares de características distintas más correlacionadas directamente entre sí son las siguientes:')\n",
        "  else:\n",
        "    print('Las 5 pares de características distintas más correlacionadas inversamente entre sí son las siguientes:')\n",
        "  for i in range(0,5):\n",
        "    print(ListaOrdenada[i])\n",
        "\n",
        "##### -------- P10  -------\n",
        "Lista = []\n",
        "Ordenador(Corr(datos), False)\n",
        "\n",
        "##### -------- P11  -------\n",
        "\n",
        "fig = plt.scatter(datos[['exkurt_prof']],datos[['skew_prof']])\n",
        "plt.title('Gráfico de dispersión: exkurt_prof vs skew_prof',)\n",
        "plt.xlabel('exkurt_prof')\n",
        "plt.ylabel('skew_prof')\n",
        "\n",
        "##### -------- P12  -------\n",
        "\n",
        "\n",
        "def Ordenador2(MatrizCorrelacion, Boolean):\n",
        "  MatrizObj = MatrizCorrelacion.copy()\n",
        "  MatrizMasking = MatrizObj.mask(np.tril(np.ones(MatrizObj.shape)).astype(np.bool))\n",
        "  ListaColumnas = MatrizCorrelacion.columns.tolist()\n",
        "  for i in ListaColumnas:\n",
        "    ConversorLista(MatrizMasking[[i]].copy())\n",
        "  ListaOrdenada = sorted(Lista, key=lambda valores: valores[1],reverse = Boolean)\n",
        "  if Boolean == True:\n",
        "    print('Las 5 pares de características distintas más correlacionadas directamente entre sí son las siguientes:')\n",
        "  else:\n",
        "    print('Las 5 pares de características distintas más correlacionadas inversamente entre sí son las siguientes:')\n",
        "  for i in range(0,len(ListaOrdenada)):\n",
        "    print(ListaOrdenada[i])\n",
        "Lista = []\n",
        "Ordenador2(Corr(datos), False)\n",
        "\n",
        "##### -------- P13  -------\n",
        "\n",
        "fig = plt.scatter(datos[['std_prof']],datos[['mean_curve']])\n",
        "plt.title('Gráfico de dispersión: std_prof vs mean_curve',)\n",
        "plt.xlabel('std_prof')\n",
        "plt.ylabel('mean_curve')\n"
      ],
      "execution_count": null,
      "outputs": []
    }
  ]
}