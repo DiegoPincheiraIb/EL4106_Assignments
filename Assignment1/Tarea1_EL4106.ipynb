{
  "nbformat": 4,
  "nbformat_minor": 0,
  "metadata": {
    "colab": {
      "name": "Tarea1_EL4106.ipynb",
      "provenance": [],
      "collapsed_sections": [],
      "machine_shape": "hm",
      "authorship_tag": "ABX9TyMTJF0eEfVWqVeKkuR9Ej+z",
      "include_colab_link": true
    },
    "kernelspec": {
      "name": "python3",
      "display_name": "Python 3"
    },
    "accelerator": "GPU"
  },
  "cells": [
    {
      "cell_type": "markdown",
      "metadata": {
        "id": "view-in-github",
        "colab_type": "text"
      },
      "source": [
        "<a href=\"https://colab.research.google.com/github/DiegoPincheiraIb/EL4106_Assignments/blob/main/Tarea1_EL4106.ipynb\" target=\"_parent\"><img src=\"https://colab.research.google.com/assets/colab-badge.svg\" alt=\"Open In Colab\"/></a>"
      ]
    },
    {
      "cell_type": "markdown",
      "metadata": {
        "id": "yXqGdaIkMbPg"
      },
      "source": [
        "# Configuración del entorno de ejecución"
      ]
    },
    {
      "cell_type": "markdown",
      "metadata": {
        "id": "C2lOF37DymKt"
      },
      "source": [
        "## Importación de librerías"
      ]
    },
    {
      "cell_type": "code",
      "metadata": {
        "id": "zE8zhg1rMbg_"
      },
      "source": [
        "import pandas as pd\n",
        "import matplotlib.pyplot as plt\n",
        "import numpy as np\n",
        "from google.colab import files\n",
        "pd.set_option('display.max_columns', 500)\n",
        "pd.set_option('display.width', 1000)"
      ],
      "execution_count": 1,
      "outputs": []
    },
    {
      "cell_type": "markdown",
      "metadata": {
        "id": "r9ygSbKCMdQC"
      },
      "source": [
        "## Carga de datos\n",
        "\n",
        "Se carga el archivo \"HTRU_2.csv\", el cual consta de 8 características obtenidas analizado señales de radiotelescopios, en conjunto con un indicador que cataloga si la clase de la muestra es uno (pulsar), o cero (no-pulsar)."
      ]
    },
    {
      "cell_type": "code",
      "metadata": {
        "id": "i4Bz9e2-Mdgb",
        "colab": {
          "resources": {
            "http://localhost:8080/nbextensions/google.colab/files.js": {
              "data": "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",
              "ok": true,
              "headers": [
                [
                  "content-type",
                  "application/javascript"
                ]
              ],
              "status": 200,
              "status_text": ""
            }
          },
          "base_uri": "https://localhost:8080/",
          "height": 72
        },
        "outputId": "8d8666ff-167c-4dce-90c2-b7f1df9d7b34"
      },
      "source": [
        "##### -------- P2 -------\n",
        "uploaded = files.upload()\n",
        "datos = pd.read_csv(\"HTRU_2.csv\",names=['mean_prof','std_prof','exkurt_prof','skew_prof','mean_curve','std_curve','exkurt_curve','skew_curve','Class'])"
      ],
      "execution_count": 2,
      "outputs": [
        {
          "output_type": "display_data",
          "data": {
            "text/html": [
              "\n",
              "     <input type=\"file\" id=\"files-2f4b9649-b4bf-4934-84fd-3512f711782e\" name=\"files[]\" multiple disabled\n",
              "        style=\"border:none\" />\n",
              "     <output id=\"result-2f4b9649-b4bf-4934-84fd-3512f711782e\">\n",
              "      Upload widget is only available when the cell has been executed in the\n",
              "      current browser session. Please rerun this cell to enable.\n",
              "      </output>\n",
              "      <script src=\"/nbextensions/google.colab/files.js\"></script> "
            ],
            "text/plain": [
              "<IPython.core.display.HTML object>"
            ]
          },
          "metadata": {
            "tags": []
          }
        },
        {
          "output_type": "stream",
          "text": [
            "Saving HTRU_2.csv to HTRU_2.csv\n"
          ],
          "name": "stdout"
        }
      ]
    },
    {
      "cell_type": "code",
      "metadata": {
        "colab": {
          "base_uri": "https://localhost:8080/",
          "height": 204
        },
        "id": "Jxo9Ec7LzUZj",
        "outputId": "1d7685ae-a270-44f8-d207-446871f5aa96"
      },
      "source": [
        "datos.head()"
      ],
      "execution_count": 6,
      "outputs": [
        {
          "output_type": "execute_result",
          "data": {
            "text/html": [
              "<div>\n",
              "<style scoped>\n",
              "    .dataframe tbody tr th:only-of-type {\n",
              "        vertical-align: middle;\n",
              "    }\n",
              "\n",
              "    .dataframe tbody tr th {\n",
              "        vertical-align: top;\n",
              "    }\n",
              "\n",
              "    .dataframe thead th {\n",
              "        text-align: right;\n",
              "    }\n",
              "</style>\n",
              "<table border=\"1\" class=\"dataframe\">\n",
              "  <thead>\n",
              "    <tr style=\"text-align: right;\">\n",
              "      <th></th>\n",
              "      <th>mean_prof</th>\n",
              "      <th>std_prof</th>\n",
              "      <th>exkurt_prof</th>\n",
              "      <th>skew_prof</th>\n",
              "      <th>mean_curve</th>\n",
              "      <th>std_curve</th>\n",
              "      <th>exkurt_curve</th>\n",
              "      <th>skew_curve</th>\n",
              "      <th>Class</th>\n",
              "    </tr>\n",
              "  </thead>\n",
              "  <tbody>\n",
              "    <tr>\n",
              "      <th>0</th>\n",
              "      <td>140.562500</td>\n",
              "      <td>55.683782</td>\n",
              "      <td>-0.234571</td>\n",
              "      <td>-0.699648</td>\n",
              "      <td>3.199833</td>\n",
              "      <td>19.110426</td>\n",
              "      <td>7.975532</td>\n",
              "      <td>74.242225</td>\n",
              "      <td>0</td>\n",
              "    </tr>\n",
              "    <tr>\n",
              "      <th>1</th>\n",
              "      <td>102.507812</td>\n",
              "      <td>58.882430</td>\n",
              "      <td>0.465318</td>\n",
              "      <td>-0.515088</td>\n",
              "      <td>1.677258</td>\n",
              "      <td>14.860146</td>\n",
              "      <td>10.576487</td>\n",
              "      <td>127.393580</td>\n",
              "      <td>0</td>\n",
              "    </tr>\n",
              "    <tr>\n",
              "      <th>2</th>\n",
              "      <td>103.015625</td>\n",
              "      <td>39.341649</td>\n",
              "      <td>0.323328</td>\n",
              "      <td>1.051164</td>\n",
              "      <td>3.121237</td>\n",
              "      <td>21.744669</td>\n",
              "      <td>7.735822</td>\n",
              "      <td>63.171909</td>\n",
              "      <td>0</td>\n",
              "    </tr>\n",
              "    <tr>\n",
              "      <th>3</th>\n",
              "      <td>136.750000</td>\n",
              "      <td>57.178449</td>\n",
              "      <td>-0.068415</td>\n",
              "      <td>-0.636238</td>\n",
              "      <td>3.642977</td>\n",
              "      <td>20.959280</td>\n",
              "      <td>6.896499</td>\n",
              "      <td>53.593661</td>\n",
              "      <td>0</td>\n",
              "    </tr>\n",
              "    <tr>\n",
              "      <th>4</th>\n",
              "      <td>88.726562</td>\n",
              "      <td>40.672225</td>\n",
              "      <td>0.600866</td>\n",
              "      <td>1.123492</td>\n",
              "      <td>1.178930</td>\n",
              "      <td>11.468720</td>\n",
              "      <td>14.269573</td>\n",
              "      <td>252.567306</td>\n",
              "      <td>0</td>\n",
              "    </tr>\n",
              "  </tbody>\n",
              "</table>\n",
              "</div>"
            ],
            "text/plain": [
              "    mean_prof   std_prof  exkurt_prof  skew_prof  mean_curve  std_curve  exkurt_curve  skew_curve  Class\n",
              "0  140.562500  55.683782    -0.234571  -0.699648    3.199833  19.110426      7.975532   74.242225      0\n",
              "1  102.507812  58.882430     0.465318  -0.515088    1.677258  14.860146     10.576487  127.393580      0\n",
              "2  103.015625  39.341649     0.323328   1.051164    3.121237  21.744669      7.735822   63.171909      0\n",
              "3  136.750000  57.178449    -0.068415  -0.636238    3.642977  20.959280      6.896499   53.593661      0\n",
              "4   88.726562  40.672225     0.600866   1.123492    1.178930  11.468720     14.269573  252.567306      0"
            ]
          },
          "metadata": {
            "tags": []
          },
          "execution_count": 6
        }
      ]
    },
    {
      "cell_type": "markdown",
      "metadata": {
        "id": "yjMPQ1H3Mbuv"
      },
      "source": [
        "## Separación de datos\n",
        "\n",
        "Se separan los datos en un diccionario cuyas llaves son las clases de los datos (pulsar con Class = 1 y no pulsar con Class = 0), y sus valores son un dataframe con todos los elementos correspondientes a las clases determinadas."
      ]
    },
    {
      "cell_type": "code",
      "metadata": {
        "id": "LGDo7ZUhMmx4",
        "colab": {
          "base_uri": "https://localhost:8080/"
        },
        "outputId": "8ee5aa3e-94eb-4c4a-ae08-1290a3e2d479"
      },
      "source": [
        "dict_datos = {\n",
        "    \"pulsar\": datos.loc[datos['Class'] == 1], \n",
        "    \"no pulsar\": datos.loc[datos['Class'] == 0]\n",
        "    }\n",
        "\n",
        "print('Los datos correspondientes a la clase \"pulsar\" son los siguientes:')\n",
        "print(dict_datos[\"pulsar\"].head())\n",
        "print('Los datos correspondientes a la clase  \"no pulsar\" son los siguientes:')\n",
        "print(dict_datos[\"no pulsar\"].head())"
      ],
      "execution_count": 24,
      "outputs": [
        {
          "output_type": "stream",
          "text": [
            "Los datos correspondientes a la clase \"pulsar\" son los siguientes:\n",
            "     mean_prof   std_prof  exkurt_prof  skew_prof  mean_curve  std_curve  exkurt_curve  skew_curve  Class\n",
            "19   99.367188  41.572202     1.547197   4.154106   27.555184  61.719016      2.208808    3.662680      1\n",
            "42  120.554688  45.549905     0.282924   0.419909    1.358696  13.079034     13.312141  212.597029      1\n",
            "61   27.765625  28.666042     5.770087  37.419009   73.112876  62.070220      1.268206    1.082920      1\n",
            "92   23.625000  29.948654     5.688038  35.987172  146.568562  82.394624     -0.274902   -1.121848      1\n",
            "93   94.585938  35.779823     1.187309   3.687469    6.071070  29.760400      5.318767   28.698048      1\n",
            "Los datos correspondientes a la clase  \"no pulsar\" son los siguientes:\n",
            "    mean_prof   std_prof  exkurt_prof  skew_prof  mean_curve  std_curve  exkurt_curve  skew_curve  Class\n",
            "0  140.562500  55.683782    -0.234571  -0.699648    3.199833  19.110426      7.975532   74.242225      0\n",
            "1  102.507812  58.882430     0.465318  -0.515088    1.677258  14.860146     10.576487  127.393580      0\n",
            "2  103.015625  39.341649     0.323328   1.051164    3.121237  21.744669      7.735822   63.171909      0\n",
            "3  136.750000  57.178449    -0.068415  -0.636238    3.642977  20.959280      6.896499   53.593661      0\n",
            "4   88.726562  40.672225     0.600866   1.123492    1.178930  11.468720     14.269573  252.567306      0\n"
          ],
          "name": "stdout"
        }
      ]
    },
    {
      "cell_type": "markdown",
      "metadata": {
        "id": "SGTp9FirMm-M"
      },
      "source": [
        "## Plotteo de histogramas\n",
        "\n",
        "Se generan histogramas superpuestos para los datos de la clase negativa (no pulsar) y clase positiva (pulsar). Se recomienda utilizar plt.hist() con alpha=0.8"
      ]
    },
    {
      "cell_type": "code",
      "metadata": {
        "id": "yByawkUd5BCE"
      },
      "source": [
        "kwargs = dict(histtype='stepfilled',alpha=0.8, bins=20) # Parámetros de la función plt.hist()"
      ],
      "execution_count": 29,
      "outputs": []
    },
    {
      "cell_type": "code",
      "metadata": {
        "id": "5tVHPMKUysvO"
      },
      "source": [
        "def Histogramas(dict_obj, cat_obj, kwargs_obj):\n",
        "  \"\"\" Dado un diccionario objetivo con los datos divididos entre clases en sus llaves,\n",
        "  una categoría objetivo y un listado de argumentos para la función plt.hist(), \n",
        "  realiza un plot de histogramas superpuestos tanto para la clase positiva como\n",
        "  la clase negativa.\"\"\"\n",
        "  print('El histograma para la categoría '+ cat_obj + ' es la siguiente:')\n",
        "  plt.hist(dict_obj[\"no pulsar\"][cat_obj],label='datos no pulsar', **kwargs)\n",
        "  plt.hist(dict_obj[\"pulsar\"][cat_obj],label='datos pulsar', **kwargs)\n",
        "  plt.legend(loc='best')\n",
        "  plt.title('Histograma de la característica ' +  cat_obj)\n",
        "  plt.show()"
      ],
      "execution_count": 30,
      "outputs": []
    },
    {
      "cell_type": "code",
      "metadata": {
        "colab": {
          "base_uri": "https://localhost:8080/",
          "height": 1000
        },
        "id": "DkOExubJz6iP",
        "outputId": "40a570af-ec03-4452-b9c7-d0a1b77df444"
      },
      "source": [
        "# Se itera sobre todas las características de la base de datos (Mean_prof, Std_prof, ...)\n",
        "for i in datos_pulsar.iloc[:,:-1]:\n",
        "  Histogramas(dict_datos, i, kwargs)"
      ],
      "execution_count": 31,
      "outputs": [
        {
          "output_type": "stream",
          "text": [
            "El histograma para la categoría mean_prof es la siguiente:\n"
          ],
          "name": "stdout"
        },
        {
          "output_type": "display_data",
          "data": {
            "image/png": "[encoded data removed]",
            "text/plain": [
              "<Figure size 432x288 with 1 Axes>"
            ]
          },
          "metadata": {
            "tags": [],
            "needs_background": "light"
          }
        },
        {
          "output_type": "stream",
          "text": [
            "El histograma para la categoría std_prof es la siguiente:\n"
          ],
          "name": "stdout"
        },
        {
          "output_type": "display_data",
          "data": {
            "image/png": "[encoded data removed]",
            "text/plain": [
              "<Figure size 432x288 with 1 Axes>"
            ]
          },
          "metadata": {
            "tags": [],
            "needs_background": "light"
          }
        },
        {
          "output_type": "stream",
          "text": [
            "El histograma para la categoría exkurt_prof es la siguiente:\n"
          ],
          "name": "stdout"
        },
        {
          "output_type": "display_data",
          "data": {
            "image/png": "[encoded data removed]",
            "text/plain": [
              "<Figure size 432x288 with 1 Axes>"
            ]
          },
          "metadata": {
            "tags": [],
            "needs_background": "light"
          }
        },
        {
          "output_type": "stream",
          "text": [
            "El histograma para la categoría skew_prof es la siguiente:\n"
          ],
          "name": "stdout"
        },
        {
          "output_type": "display_data",
          "data": {
            "image/png": "[encoded data removed]",
            "text/plain": [
              "<Figure size 432x288 with 1 Axes>"
            ]
          },
          "metadata": {
            "tags": [],
            "needs_background": "light"
          }
        },
        {
          "output_type": "stream",
          "text": [
            "El histograma para la categoría mean_curve es la siguiente:\n"
          ],
          "name": "stdout"
        },
        {
          "output_type": "display_data",
          "data": {
            "image/png": "[encoded data removed]",
            "text/plain": [
              "<Figure size 432x288 with 1 Axes>"
            ]
          },
          "metadata": {
            "tags": [],
            "needs_background": "light"
          }
        },
        {
          "output_type": "stream",
          "text": [
            "El histograma para la categoría std_curve es la siguiente:\n"
          ],
          "name": "stdout"
        },
        {
          "output_type": "display_data",
          "data": {
            "image/png": "[encoded data removed]",
            "text/plain": [
              "<Figure size 432x288 with 1 Axes>"
            ]
          },
          "metadata": {
            "tags": [],
            "needs_background": "light"
          }
        },
        {
          "output_type": "stream",
          "text": [
            "El histograma para la categoría exkurt_curve es la siguiente:\n"
          ],
          "name": "stdout"
        },
        {
          "output_type": "display_data",
          "data": {
            "image/png": "[encoded data removed]",
            "text/plain": [
              "<Figure size 432x288 with 1 Axes>"
            ]
          },
          "metadata": {
            "tags": [],
            "needs_background": "light"
          }
        },
        {
          "output_type": "stream",
          "text": [
            "El histograma para la categoría skew_curve es la siguiente:\n"
          ],
          "name": "stdout"
        },
        {
          "output_type": "display_data",
          "data": {
            "image/png": "[encoded data removed]",
            "text/plain": [
              "<Figure size 432x288 with 1 Axes>"
            ]
          },
          "metadata": {
            "tags": [],
            "needs_background": "light"
          }
        }
      ]
    },
    {
      "cell_type": "markdown",
      "metadata": {
        "id": "33IypWoh2F8m"
      },
      "source": [
        "## Skewness & Kurtosis\n",
        "\n",
        "Se calcula el skewness y kurtosis de los datos tanto para la clase positiva como para la clase negativa."
      ]
    },
    {
      "cell_type": "markdown",
      "metadata": {
        "id": "2YcHwlaQ4a2y"
      },
      "source": [
        "### Skewness"
      ]
    },
    {
      "cell_type": "code",
      "metadata": {
        "colab": {
          "base_uri": "https://localhost:8080/"
        },
        "id": "xejdY-aJ2GNR",
        "outputId": "d69582df-ea3e-489a-f4c2-222b34f8aa15"
      },
      "source": [
        "dict_skewness = {key: dict_datos[key].skew() for key in dict_datos}\n",
        "\n",
        "\n",
        "print('Skewness de los datos pulsar:')\n",
        "print(dict_skewness[\"pulsar\"])\n",
        "print('Skewness de los datos no pulsar:')\n",
        "print(dict_skewness[\"no pulsar\"])\n",
        "print ('---------------------------------')"
      ],
      "execution_count": 27,
      "outputs": [
        {
          "output_type": "stream",
          "text": [
            "Skewness de los datos pulsar:\n",
            "mean_prof       0.308597\n",
            "std_prof        1.036542\n",
            "exkurt_prof     0.306437\n",
            "skew_prof       0.942712\n",
            "mean_curve      0.963258\n",
            "std_curve      -0.363589\n",
            "exkurt_curve    2.271182\n",
            "skew_curve      8.115754\n",
            "Class           0.000000\n",
            "dtype: float64\n",
            "Skewness de los datos no pulsar:\n",
            "mean_prof      -0.104386\n",
            "std_prof        0.427126\n",
            "exkurt_prof     0.971401\n",
            "skew_prof       4.545891\n",
            "mean_curve      5.038468\n",
            "std_curve       2.581859\n",
            "exkurt_curve    0.534252\n",
            "skew_curve      2.767688\n",
            "Class           0.000000\n",
            "dtype: float64\n",
            "---------------------------------\n"
          ],
          "name": "stdout"
        }
      ]
    },
    {
      "cell_type": "markdown",
      "metadata": {
        "id": "7wHhmprN4fpB"
      },
      "source": [
        "### Kurtosis"
      ]
    },
    {
      "cell_type": "code",
      "metadata": {
        "colab": {
          "base_uri": "https://localhost:8080/"
        },
        "id": "mxHJnn_w4f13",
        "outputId": "55ee6b7d-35ee-463e-b167-8729a1cbf584"
      },
      "source": [
        "### -------- Kurtosis -------\n",
        "dict_kurtosis = {key: dict_datos[key].kurtosis() for key in dict_datos}\n",
        "print('Kurtosis de los datos pulsar:')\n",
        "print(dict_kurtosis[\"pulsar\"])\n",
        "print('Kurtosis de los datos no pulsar:')\n",
        "print(dict_kurtosis[\"no pulsar\"])\n",
        "print ('---------------------------------')"
      ],
      "execution_count": 28,
      "outputs": [
        {
          "output_type": "stream",
          "text": [
            "Kurtosis de los datos pulsar:\n",
            "mean_prof        -0.808386\n",
            "std_prof          1.661709\n",
            "exkurt_prof      -0.880170\n",
            "skew_prof         0.182500\n",
            "mean_curve       -0.053478\n",
            "std_curve        -0.464914\n",
            "exkurt_curve      8.627646\n",
            "skew_curve      110.558305\n",
            "Class             0.000000\n",
            "dtype: float64\n",
            "Kurtosis de los datos no pulsar:\n",
            "mean_prof        0.366312\n",
            "std_prof         2.353630\n",
            "exkurt_prof     11.377569\n",
            "skew_prof       59.247420\n",
            "mean_curve      27.204574\n",
            "std_curve        6.746908\n",
            "exkurt_curve     2.260259\n",
            "skew_curve      13.630239\n",
            "Class            0.000000\n",
            "dtype: float64\n",
            "---------------------------------\n"
          ],
          "name": "stdout"
        }
      ]
    },
    {
      "cell_type": "markdown",
      "metadata": {
        "id": "M8HTEAHr2SXF"
      },
      "source": [
        "## Matriz de Correlación\n",
        "\n",
        "Se elabora una función que, dado un dataframe, calcule la correlación con respecto a sí misma."
      ]
    },
    {
      "cell_type": "markdown",
      "metadata": {
        "id": "cf46sAvb2tk4"
      },
      "source": [
        "### Función de matriz de correlación\n",
        "\n",
        "Para calcular la matriz de correlación, se elabora una función que calcula la matriz de covarianza de un dataframe objetivo. Con dicha matriz, se calcula la matriz de correlación."
      ]
    },
    {
      "cell_type": "code",
      "metadata": {
        "id": "Ekp4side8jCv"
      },
      "source": [
        "def Covariance_Mtx(df_obj):\n",
        "  \"\"\" Dado un dataframe objetivo, calcula la matriz de covarianza entre la misma \n",
        "  matriz. Para ello:\n",
        "  1. Se extrae la media de cada una de sus columnas y se resta a las columnas\n",
        "  correspondientes.\n",
        "  2. Se multiplica esta matriz por su traspuesta.\n",
        "  3. Se divide cada elemento de la matriz resultante por el total de datos, \n",
        "  obteniendo así la Matriz de Covarianza de los datos.\"\"\"\n",
        "  mtx_aux = df_obj.sub(df_obj.mean(), axis = 'columns')\n",
        "  mtx_aux_dot = mtx_aux.transpose().dot(mtx_aux)\n",
        "  return mtx_aux_dot/(len(df_obj)-1)"
      ],
      "execution_count": 91,
      "outputs": []
    },
    {
      "cell_type": "code",
      "metadata": {
        "id": "jbAk2Myk7Kqd"
      },
      "source": [
        "def Corr_Mtx(df_obj):\n",
        "  \"\"\" Dado un dataframe objetivo, calcula la matriz de correlación entre la misma \n",
        "  matriz. Para ello:\n",
        "  1. Calcula la matriz de covarianza del dataframe objetivo.\n",
        "  2. Calcula la desviación estandar de los datos.\n",
        "  3. Divide dos veces por la desviación estandar del dataframe objetivo.\n",
        "  Finalmente retorna la matriz de correlación de los datos.\"\"\"\n",
        "  cov_mtx_obj = Covariance_Mtx(df_obj)\n",
        "  std_datos = df_obj.std()\n",
        "  corr_mtx_obj = (cov_mtx_obj/std_datos).divide(std_datos, axis='rows')\n",
        "  return corr_mtx_obj"
      ],
      "execution_count": 90,
      "outputs": []
    },
    {
      "cell_type": "markdown",
      "metadata": {
        "id": "6Oe21JLK2Uyp"
      },
      "source": [
        "### Implementación de la función anterior"
      ]
    },
    {
      "cell_type": "code",
      "metadata": {
        "colab": {
          "base_uri": "https://localhost:8080/"
        },
        "id": "i-TkBd7p2VEm",
        "outputId": "fec73885-46e6-4d9a-c88a-85a17e3b4f66"
      },
      "source": [
        "##### -------- P8 -------\n",
        "print('Matriz de Correlacion:')\n",
        "print(Corr_Mtx(datos))\n",
        "\n",
        "Correlacion = datos.corr()\n",
        "\n",
        "print('Matriz de Correlacion mediante funcion integrada en Pandas:')\n",
        "print(Correlacion)\n"
      ],
      "execution_count": 92,
      "outputs": [
        {
          "output_type": "stream",
          "text": [
            "Matriz de Correlacion:\n",
            "              mean_prof  std_prof  exkurt_prof  skew_prof  mean_curve  std_curve  exkurt_curve  skew_curve     Class\n",
            "mean_prof      1.000000  0.547137    -0.873898  -0.738775   -0.298841  -0.307016      0.234331    0.144033 -0.673181\n",
            "std_prof       0.547137  1.000000    -0.521435  -0.539793    0.006869  -0.047632      0.029429    0.027691 -0.363708\n",
            "exkurt_prof   -0.873898 -0.521435     1.000000   0.945729    0.414368   0.432880     -0.341209   -0.214491  0.791591\n",
            "skew_prof     -0.738775 -0.539793     0.945729   1.000000    0.412056   0.415140     -0.328843   -0.204782  0.709528\n",
            "mean_curve    -0.298841  0.006869     0.414368   0.412056    1.000000   0.796555     -0.615971   -0.354269  0.400876\n",
            "std_curve     -0.307016 -0.047632     0.432880   0.415140    0.796555   1.000000     -0.809786   -0.575800  0.491535\n",
            "exkurt_curve   0.234331  0.029429    -0.341209  -0.328843   -0.615971  -0.809786      1.000000    0.923743 -0.390816\n",
            "skew_curve     0.144033  0.027691    -0.214491  -0.204782   -0.354269  -0.575800      0.923743    1.000000 -0.259117\n",
            "Class         -0.673181 -0.363708     0.791591   0.709528    0.400876   0.491535     -0.390816   -0.259117  1.000000\n",
            "Matriz de Correlacion mediante funcion integrada en Pandas:\n",
            "              mean_prof  std_prof  exkurt_prof  skew_prof  mean_curve  std_curve  exkurt_curve  skew_curve     Class\n",
            "mean_prof      1.000000  0.547137    -0.873898  -0.738775   -0.298841  -0.307016      0.234331    0.144033 -0.673181\n",
            "std_prof       0.547137  1.000000    -0.521435  -0.539793    0.006869  -0.047632      0.029429    0.027691 -0.363708\n",
            "exkurt_prof   -0.873898 -0.521435     1.000000   0.945729    0.414368   0.432880     -0.341209   -0.214491  0.791591\n",
            "skew_prof     -0.738775 -0.539793     0.945729   1.000000    0.412056   0.415140     -0.328843   -0.204782  0.709528\n",
            "mean_curve    -0.298841  0.006869     0.414368   0.412056    1.000000   0.796555     -0.615971   -0.354269  0.400876\n",
            "std_curve     -0.307016 -0.047632     0.432880   0.415140    0.796555   1.000000     -0.809786   -0.575800  0.491535\n",
            "exkurt_curve   0.234331  0.029429    -0.341209  -0.328843   -0.615971  -0.809786      1.000000    0.923743 -0.390816\n",
            "skew_curve     0.144033  0.027691    -0.214491  -0.204782   -0.354269  -0.575800      0.923743    1.000000 -0.259117\n",
            "Class         -0.673181 -0.363708     0.791591   0.709528    0.400876   0.491535     -0.390816   -0.259117  1.000000\n"
          ],
          "name": "stdout"
        }
      ]
    },
    {
      "cell_type": "markdown",
      "metadata": {
        "id": "xiNrwVS121Yh"
      },
      "source": [
        ""
      ]
    },
    {
      "cell_type": "code",
      "metadata": {
        "id": "7I19Oef121rW"
      },
      "source": [
        "##### -------- P9  -------\n",
        "\n",
        "def Elem_Correlax(datox,columna, direccion):\n",
        "  dato = datox[[columna]].copy()\n",
        "  dato.sort_values(by = columna,inplace=True, ascending = direccion)\n",
        "  newdato = dato.copy()\n",
        "  if direccion == False:\n",
        "    newdato = newdato.iloc[1:6]\n",
        "    print('Las caracteristicas más relacionadas con la clase se presentan a continuación,')\n",
        "    print('junto con sus correspondientes coeficientes de correlación:')\n",
        "    print(newdato)\n",
        "  else:\n",
        "    newdato = newdato.iloc[0:5]\n",
        "    print('Las caracteristicas menos relacionadas con la clase se presentan a continuación,')\n",
        "    print('junto con sus correspondientes coeficientes de correlación:')\n",
        "    print(newdato)\n",
        "  \n",
        "\n",
        "#Elem_Correlax(Corr(datos),'Class', False)"
      ],
      "execution_count": null,
      "outputs": []
    },
    {
      "cell_type": "code",
      "metadata": {
        "id": "oX0fReo6W3yc"
      },
      "source": [
        "### ------ Funciones y Variables Utilizadas:\n",
        "\n",
        "def ConversorLista(datodato):\n",
        "  for i in range(0,len(datodato.dropna())):\n",
        "    nuevodato = list(datodato.dropna().itertuples())[i]\n",
        "    Lista.append(nuevodato)\n",
        "\n",
        "def Ordenador(MatrizCorrelacion, Boolean):\n",
        "  MatrizObj = MatrizCorrelacion.copy()\n",
        "  MatrizMasking = MatrizObj.mask(np.tril(np.ones(MatrizObj.shape)).astype(np.bool))\n",
        "  ListaColumnas = MatrizCorrelacion.columns.tolist()\n",
        "  for i in ListaColumnas:\n",
        "    ConversorLista(MatrizMasking[[i]].copy())\n",
        "  ListaOrdenada = sorted(Lista, key=lambda valores: valores[1],reverse = Boolean)\n",
        "  if Boolean == True:\n",
        "    print('Las 5 pares de características distintas más correlacionadas directamente entre sí son las siguientes:')\n",
        "  else:\n",
        "    print('Las 5 pares de características distintas más correlacionadas inversamente entre sí son las siguientes:')\n",
        "  for i in range(0,5):\n",
        "    print(ListaOrdenada[i])\n",
        "\n"
      ],
      "execution_count": null,
      "outputs": []
    },
    {
      "cell_type": "markdown",
      "metadata": {
        "id": "nKyERXN76-Tu"
      },
      "source": [
        "## Características con mayor correlación"
      ]
    },
    {
      "cell_type": "code",
      "metadata": {
        "id": "u4_PtKmj6_w0"
      },
      "source": [
        "##### -------- P10  -------\n",
        "Lista = []\n",
        "Ordenador(Corr(datos), False)"
      ],
      "execution_count": null,
      "outputs": []
    },
    {
      "cell_type": "code",
      "metadata": {
        "id": "GBp0UvLN7AFa"
      },
      "source": [
        "##### -------- P11  -------\n",
        "\n",
        "fig = plt.scatter(datos[['exkurt_prof']],datos[['skew_prof']])\n",
        "plt.title('Gráfico de dispersión: exkurt_prof vs skew_prof',)\n",
        "plt.xlabel('exkurt_prof')\n",
        "plt.ylabel('skew_prof')"
      ],
      "execution_count": null,
      "outputs": []
    },
    {
      "cell_type": "markdown",
      "metadata": {
        "id": "NLzGum2v6rbJ"
      },
      "source": [
        "## Características con menor correlación"
      ]
    },
    {
      "cell_type": "code",
      "metadata": {
        "id": "WmrsKUDv6rpL"
      },
      "source": [
        "##### -------- P12  -------\n",
        "\n",
        "\n",
        "def Ordenador2(MatrizCorrelacion, Boolean):\n",
        "  MatrizObj = MatrizCorrelacion.copy()\n",
        "  MatrizMasking = MatrizObj.mask(np.tril(np.ones(MatrizObj.shape)).astype(np.bool))\n",
        "  ListaColumnas = MatrizCorrelacion.columns.tolist()\n",
        "  for i in ListaColumnas:\n",
        "    ConversorLista(MatrizMasking[[i]].copy())\n",
        "  ListaOrdenada = sorted(Lista, key=lambda valores: valores[1],reverse = Boolean)\n",
        "  if Boolean == True:\n",
        "    print('Las 5 pares de características distintas más correlacionadas directamente entre sí son las siguientes:')\n",
        "  else:\n",
        "    print('Las 5 pares de características distintas más correlacionadas inversamente entre sí son las siguientes:')\n",
        "  for i in range(0,len(ListaOrdenada)):\n",
        "    print(ListaOrdenada[i])\n",
        "Lista = []\n",
        "Ordenador2(Corr(datos), False)"
      ],
      "execution_count": null,
      "outputs": []
    },
    {
      "cell_type": "markdown",
      "metadata": {
        "id": "rDip0ILT6ohc"
      },
      "source": [
        "913"
      ]
    },
    {
      "cell_type": "code",
      "metadata": {
        "id": "tAT0hREq6o0x"
      },
      "source": [
        "##### -------- P13  -------\n",
        "\n",
        "fig = plt.scatter(datos[['std_prof']],datos[['mean_curve']])\n",
        "plt.title('Gráfico de dispersión: std_prof vs mean_curve',)\n",
        "plt.xlabel('std_prof')\n",
        "plt.ylabel('mean_curve')"
      ],
      "execution_count": null,
      "outputs": []
    }
  ]
}
