{
  "nbformat": 4,
  "nbformat_minor": 0,
  "metadata": {
    "colab": {
      "name": "Assignment3_EL4106.ipynb",
      "provenance": [],
      "include_colab_link": true
    },
    "kernelspec": {
      "name": "python3",
      "display_name": "Python 3"
    }
  },
  "cells": [
    {
      "cell_type": "markdown",
      "metadata": {
        "id": "view-in-github",
        "colab_type": "text"
      },
      "source": [
        "<a href=\"https://colab.research.google.com/github/DiegoPincheiraIb/EL4106_Assignments/blob/main/Assignment3/Assignment3_EL4106.ipynb\" target=\"_parent\"><img src=\"https://colab.research.google.com/assets/colab-badge.svg\" alt=\"Open In Colab\"/></a>"
      ]
    },
    {
      "cell_type": "markdown",
      "metadata": {
        "id": "T5cLXICPrfm8"
      },
      "source": [
        "# Carga de datos"
      ]
    },
    {
      "cell_type": "code",
      "metadata": {
        "id": "fG28rztPr4tU",
        "colab": {
          "base_uri": "https://localhost:8080/"
        },
        "outputId": "463fb154-590e-4d8e-beca-43ead48d2aa1"
      },
      "source": [
        "import pandas as pd\n",
        "import matplotlib.pyplot as plt\n",
        "import numpy as np\n",
        "import random\n",
        "from google.colab import files\n",
        "from sklearn.preprocessing import StandardScaler\n",
        "import sys\n",
        "from sklearn import svm, datasets\n",
        "from sklearn.model_selection import GridSearchCV\n",
        "from sklearn import metrics\n",
        "np.set_printoptions(threshold=sys.maxsize)\n",
        "pd.set_option('display.max_columns', 500)\n",
        "pd.set_option('display.width', 1000)\n",
        "\n",
        "\n",
        "##### -------- Carga de datos: -------\n",
        "\n",
        "\n",
        "url = 'https://raw.githubusercontent.com/DiegoPincheiraIb/EL4106_Assignments/main/Assignment3/2_HTRU_2.csv'\n",
        "datos = pd.read_csv(url,names=['mean_prof','std_prof','exkurt_prof','skew_prof','mean_curve','std_curve','exkurt_curve','skew_curve','Class'])\n",
        "print('Se tiene a continuación los datos importados:')\n",
        "print(datos.head())"
      ],
      "execution_count": 4,
      "outputs": [
        {
          "output_type": "stream",
          "text": [
            "Se tiene a continuación los datos importados:\n",
            "    mean_prof   std_prof  exkurt_prof  skew_prof  mean_curve  std_curve  exkurt_curve  skew_curve  Class\n",
            "0  140.562500  55.683782    -0.234571  -0.699648    3.199833  19.110426      7.975532   74.242225      0\n",
            "1  102.507812  58.882430     0.465318  -0.515088    1.677258  14.860146     10.576487  127.393580      0\n",
            "2  103.015625  39.341649     0.323328   1.051164    3.121237  21.744669      7.735822   63.171909      0\n",
            "3  136.750000  57.178449    -0.068415  -0.636238    3.642977  20.959280      6.896499   53.593661      0\n",
            "4   88.726562  40.672225     0.600866   1.123492    1.178930  11.468720     14.269573  252.567306      0\n"
          ],
          "name": "stdout"
        }
      ]
    },
    {
      "cell_type": "markdown",
      "metadata": {
        "id": "edE6XoLUuqxB"
      },
      "source": [
        "# P3 - Remuestreo de datos"
      ]
    },
    {
      "cell_type": "markdown",
      "metadata": {
        "id": "zuhgq0OFmCUL"
      },
      "source": [
        "Se diseña esta función para que, dado un dataframe, una cantidad de datos, y una clase, remuestree los datos (under-sampling) de dicho dataframe, extrayendo la cantidad de datos establecida de dicha clase:"
      ]
    },
    {
      "cell_type": "code",
      "metadata": {
        "id": "GPjT1J1VsLTl"
      },
      "source": [
        "def Remuestreo(df_input, numero, clase):\n",
        "  df_obj = df_input.loc[df_input['Class'] == clase].copy()\n",
        "  output = df_obj.sample(n=numero, random_state=1)  # Se extraen de forma aleatoria la cantidad de datos fijada\n",
        "  output = output.reset_index(drop=True) # Se reinician los índices\n",
        "  return output\n"
      ],
      "execution_count": null,
      "outputs": []
    },
    {
      "cell_type": "markdown",
      "metadata": {
        "id": "RvuotnWlsUuB"
      },
      "source": [
        "Se remuestrea los datos correspondientes a la clase 0 del conjunto original a 1639 muestras:"
      ]
    },
    {
      "cell_type": "code",
      "metadata": {
        "id": "Y3wXlaHgRx6G"
      },
      "source": [
        "P3 = Remuestreo(datos, 1639, 0)\n",
        "print(P3) "
      ],
      "execution_count": null,
      "outputs": []
    },
    {
      "cell_type": "markdown",
      "metadata": {
        "id": "iIw1GF7ogzQ6"
      },
      "source": [
        "# P4 - Creación de conjuntos de Training, Test, y Validation"
      ]
    },
    {
      "cell_type": "code",
      "metadata": {
        "id": "ZYycM3X4tJpM"
      },
      "source": [
        "def Union_Datos_1_Datos_0(DataX_1, DataX_2):\n",
        "  Old_DataX_Set = pd.concat([DataX_1,DataX_2]) # Se crea un conjunto a partir de dos subconjuntos\n",
        "  copia_Old_DataX_Set = Old_DataX_Set.copy()\n",
        "  DataX_Set = copia_Old_DataX_Set.sample(frac=1, random_state=1) # Se reordena aleatoriamente el conjunto\n",
        "  DataX_Set = DataX_Set.reset_index(drop=True)\n",
        "  return DataX_Set\n",
        "\n",
        "\n",
        "def Dividir_Conjuntos(DataX,Pctj_Trg,Pctj_Vld_Test):\n",
        "  corte_trg_set_X = int((len(DataX))*Pctj_Trg) # Cota de corte para 60%\n",
        "  corte_vld_set_test_set_X = int((len(DataX))*(Pctj_Trg+Pctj_Vld_Test)) # Cota de corte para 20%\n",
        "  Copia_DataX = DataX.copy()\n",
        "  Training_Set_X = Copia_DataX.iloc[:corte_trg_set_X] # 60% de los datos pulsar\n",
        "  Val_Set_X = Copia_DataX.iloc[corte_trg_set_X:corte_vld_set_test_set_X] # 20% de los datos pulsar\n",
        "  Test_Set_X = Copia_DataX.iloc[corte_vld_set_test_set_X:] # 20% restante de los datos pulsar\n",
        "  return Training_Set_X, Val_Set_X, Test_Set_X\n",
        "\n",
        "def Conjuntos(DataX,Pctj_Trg,Pctj_Vld_Test, numero):\n",
        "  # Aquí se separan los datos en muestras positivas y negativas\n",
        "  Data_1 = Remuestreo(DataX, numero, 1) # Esto incluyen reordenamiento aleatorio\n",
        "  Data_0 = Remuestreo(DataX, numero, 0) # Esto incluyen reordenamiento aleatorio\n",
        "  # 1era parte: Datos Pulsar\n",
        "  Training_Set_1, Val_Set_1, Test_Set_1 = Dividir_Conjuntos(Data_1,Pctj_Trg,Pctj_Vld_Test)\n",
        "  Training_Set_0, Val_Set_0, Test_Set_0 = Dividir_Conjuntos(Data_0,Pctj_Trg,Pctj_Vld_Test)\n",
        "  # ------------------------\n",
        "  # 3era parte: Crear los conjuntos:\n",
        "  ## a) Training Set:\n",
        "  Training_Set = Union_Datos_1_Datos_0(Training_Set_1, Training_Set_0)\n",
        "  # ------------------------\n",
        "  ## b) Validation Set:\n",
        "  Validation_Set = Union_Datos_1_Datos_0(Val_Set_1, Val_Set_0)\n",
        "  # ------------------------\n",
        "  ## c) Test Set:\n",
        "  Test_Set = Union_Datos_1_Datos_0(Test_Set_1, Test_Set_0)\n",
        "  # ------------------------\n",
        "  return Training_Set, Test_Set, Validation_Set"
      ],
      "execution_count": null,
      "outputs": []
    },
    {
      "cell_type": "markdown",
      "metadata": {
        "id": "emz0Oo_4ofFK"
      },
      "source": [
        "Se crean los conjuntos de **Entrenamiento, Prueba y Validación**, con el 60% de los datos originales destinados al conjunto de entrenamiento, un 20% para el conjunto de prueba, y el porcentaje restante (20%) para el conjunto de validación:"
      ]
    },
    {
      "cell_type": "code",
      "metadata": {
        "id": "_Bf8D8Tc96HT"
      },
      "source": [
        "Training_Set, Test_Set, Validation_Set = Conjuntos(datos,0.6,0.2, 1639)\n",
        "\n",
        "print('Conjunto de entrenamiento:')\n",
        "print(Training_Set)\n",
        "print('Conjunto de prueba:')\n",
        "print(Test_Set)\n",
        "print('Conjunto de validación:')\n",
        "print(Validation_Set)"
      ],
      "execution_count": null,
      "outputs": []
    },
    {
      "cell_type": "markdown",
      "metadata": {
        "id": "GxfntWW6f6Ng"
      },
      "source": [
        "# P5 - Kernel Lineal"
      ]
    },
    {
      "cell_type": "markdown",
      "metadata": {
        "id": "mh6UC_ULoxGF"
      },
      "source": [
        "Se diseña una función que separa los conjuntos en 2: Un Vector X, el cual tiene los valores de las características de cada dato, y un vector Y, el cual tiene la información de la clase de cada dato:"
      ]
    },
    {
      "cell_type": "code",
      "metadata": {
        "id": "dBOSj6yXtrHW"
      },
      "source": [
        "def VectoresX_Y(Conjunto):\n",
        "  Copia_Conjunto = Conjunto.copy() # Se copia el conjunto objetivo\n",
        "  Clases_Conjunto = Copia_Conjunto.iloc[:, -1] # Se extrae la info de las clases del conjunto\n",
        "  Clases_Conjunto_NP = Clases_Conjunto.values # Se convierten las clases a Numpy\n",
        "  Caract_Conjunto = Copia_Conjunto.iloc[:, 0:7] # Se extrae la info de las características\n",
        "  Caract_Conjunto_NP = Caract_Conjunto.values # Se convierten las características a Numpy:\n",
        "  return Caract_Conjunto_NP, Clases_Conjunto_NP"
      ],
      "execution_count": null,
      "outputs": []
    },
    {
      "cell_type": "markdown",
      "metadata": {
        "id": "lKXo5X0Il1f1"
      },
      "source": [
        "Se aplica esta función a los conjuntos de Entrenamiento, Prueba y Validación."
      ]
    },
    {
      "cell_type": "code",
      "metadata": {
        "id": "Vk6bED3QMPds"
      },
      "source": [
        "X_Training_0, Y_Training = VectoresX_Y(Training_Set)\n",
        "X_Test_0, Y_Test = VectoresX_Y(Test_Set)\n",
        "X_Validation_0, Y_Validation = VectoresX_Y(Validation_Set)"
      ],
      "execution_count": null,
      "outputs": []
    },
    {
      "cell_type": "markdown",
      "metadata": {
        "id": "-EgqejmCpDgN"
      },
      "source": [
        "Se procede a crear un estandarizador de datos, el cual se entrena en función del conjunto de entrenamiento:"
      ]
    },
    {
      "cell_type": "code",
      "metadata": {
        "id": "8b4kDe84L3Yq"
      },
      "source": [
        "def Estandarizacion(X_Entrenamiento, X_Prueba, X_Validacion):\n",
        "  Estandarizador = StandardScaler().fit(X_Entrenamiento) # Se crea el estandarizador\n",
        "  # Se aplica el estandarizador:\n",
        "  Training_Set_Caract_Est = Estandarizador.transform(X_Entrenamiento) # Se aplica el Estandarizador al Conjunto de Training\n",
        "  Test_Set_Caract_Est = Estandarizador.transform(X_Prueba) # Se aplica el Estandarizador al Conjunto de Validacion\n",
        "  Validation_Set_Caract_Est = Estandarizador.transform(X_Validacion) # Se aplica el Estandarizador al Conjunto de Test\n",
        "  return Training_Set_Caract_Est, Test_Set_Caract_Est, Validation_Set_Caract_Est"
      ],
      "execution_count": null,
      "outputs": []
    },
    {
      "cell_type": "markdown",
      "metadata": {
        "id": "OPFLQUh29cx-"
      },
      "source": [
        "Se divide los conjuntos en características y clases, y se estandarizan:"
      ]
    },
    {
      "cell_type": "code",
      "metadata": {
        "id": "MhWYMAGo8KXB"
      },
      "source": [
        "X_Training, X_Test, X_Validation = Estandarizacion(X_Training_0, X_Test_0, X_Validation_0)"
      ],
      "execution_count": null,
      "outputs": []
    },
    {
      "cell_type": "markdown",
      "metadata": {
        "id": "NmELzomLpVeG"
      },
      "source": [
        "Aquí se crea un constructor de un clasificador general:"
      ]
    },
    {
      "cell_type": "code",
      "metadata": {
        "id": "RTdCf7DGtfAc"
      },
      "source": [
        "def Constructor_Clasificador(Tipo_Kernel, Probabilidad, N_Folds, Parametros):\n",
        "  Clasificador_SVM = svm.SVC(kernel=Tipo_Kernel, probability=Probabilidad)\n",
        "  Clasificador_Optimo = GridSearchCV(estimator=Clasificador_SVM, cv=N_Folds, param_grid= Parametros )\n",
        "  return Clasificador_Optimo"
      ],
      "execution_count": null,
      "outputs": []
    },
    {
      "cell_type": "markdown",
      "metadata": {
        "id": "uhTA2TuBt6F5"
      },
      "source": [
        "En las siguientes lineas se aplica el clasificador:"
      ]
    },
    {
      "cell_type": "code",
      "metadata": {
        "id": "NSZmF2xeSsHQ"
      },
      "source": [
        "Valores_C = {'C': [0.01,0.1,1,10,100]}\n",
        "Clasificador_Lineal = Constructor_Clasificador('linear', False, 5, Valores_C)\n",
        "Clasificador_Lineal.fit(X_Training, Y_Training) # Entrenamiento del clasificador"
      ],
      "execution_count": null,
      "outputs": []
    },
    {
      "cell_type": "markdown",
      "metadata": {
        "id": "Z-mr2eCmh7i2"
      },
      "source": [
        "# P6 - Matriz de Confusión"
      ]
    },
    {
      "cell_type": "markdown",
      "metadata": {
        "id": "2W4aAlJfubaS"
      },
      "source": [
        "Se crea una función que retorna una matriz de confusión dado los siguientes elementos: un clasificador ya entrenado, y vectores X e Y pertenecientes al conjunto de validación."
      ]
    },
    {
      "cell_type": "code",
      "metadata": {
        "id": "FoKJVuvBubul"
      },
      "source": [
        "def Matriz_Confusion(X_Val, Y_Val,Clasificador):\n",
        "  Y_Predict_Val = Clasificador.predict(X_Val)\n",
        "  return metrics.confusion_matrix(Y_Val, Y_Predict_Val)"
      ],
      "execution_count": null,
      "outputs": []
    },
    {
      "cell_type": "markdown",
      "metadata": {
        "id": "A0uED-fBppU2"
      },
      "source": [
        "Se aplica la función anterior al conjunto de validación, utilizando el clasificador lineal entrenado en la P5"
      ]
    },
    {
      "cell_type": "code",
      "metadata": {
        "id": "kbqXni9-U_0s",
        "colab": {
          "base_uri": "https://localhost:8080/",
          "height": 50
        },
        "outputId": "d1007e52-9948-4609-fda9-048305d9ed3a"
      },
      "source": [
        "Matriz_Confusion(X_Validation, Y_Validation, Clasificador_Lineal)"
      ],
      "execution_count": null,
      "outputs": [
        {
          "output_type": "execute_result",
          "data": {
            "text/plain": [
              "array([[326,   2],\n",
              "       [ 28, 300]])"
            ]
          },
          "metadata": {
            "tags": []
          },
          "execution_count": 15
        }
      ]
    },
    {
      "cell_type": "markdown",
      "metadata": {
        "id": "hQab-P_TiB99"
      },
      "source": [
        "# P7 - Curva ROC"
      ]
    },
    {
      "cell_type": "markdown",
      "metadata": {
        "id": "vZR4Lb4Qulsr"
      },
      "source": [
        "Se crea una función que, dado un conjunto de validación separado en características y clases, y un clasificador ya entrenado, entrega una curva ROC (omitible si se añade un booleano ``False''), y además el área bajo la curva:\n"
      ]
    },
    {
      "cell_type": "code",
      "metadata": {
        "id": "zTRAhJMOumLZ"
      },
      "source": [
        "def Generador_ROC_AUC(X_Val, Y_Val, Clasificador, Plot = True):\n",
        "  Score = Clasificador.decision_function(X_Val)\n",
        "  TFP, TVP, _ = metrics.roc_curve(Y_Val, Score)\n",
        "  AUC_ROC = metrics.auc(TFP, TVP)\n",
        "  #metrics.auc\n",
        "  if Plot:\n",
        "    plt.figure(figsize=(7, 6))\n",
        "    plt.plot(TFP, TVP, color='blue', label='ROC (AUC = %0.4f)' % AUC_ROC)\n",
        "    plt.legend(loc='best')\n",
        "    plt.title(\"Curva ROC\")\n",
        "    plt.xlabel(\"TFP: Tasa de Falsos Positivos\")\n",
        "    plt.ylabel(\"TVP: Tasa de Verdaderos Positivos\")\n",
        "    plt.show()\n",
        "  return AUC_ROC"
      ],
      "execution_count": null,
      "outputs": []
    },
    {
      "cell_type": "markdown",
      "metadata": {
        "id": "4dv7dq3xFFca"
      },
      "source": [
        "Curva ROC para el Clasificador Lineal implementado en P5:"
      ]
    },
    {
      "cell_type": "code",
      "metadata": {
        "id": "vRa9xbwLFE-i",
        "colab": {
          "base_uri": "https://localhost:8080/",
          "height": 421
        },
        "outputId": "fcaddfea-ca4d-484c-8d1e-8417b3a6699b"
      },
      "source": [
        "ROC_AUC_Lineal = Generador_ROC_AUC(X_Validation, Y_Validation, Clasificador_Lineal)\n",
        "print('Área bajo la curva para el clasificador lineal: ',ROC_AUC_Lineal)"
      ],
      "execution_count": null,
      "outputs": [
        {
          "output_type": "display_data",
          "data": {
            "image/png": "[encoded data removed]",
            "text/plain": [
              "<Figure size 504x432 with 1 Axes>"
            ]
          },
          "metadata": {
            "tags": [],
            "needs_background": "light"
          }
        },
        {
          "output_type": "stream",
          "text": [
            "Área bajo la curva para el clasificador lineal:  0.9829063801308745\n"
          ],
          "name": "stdout"
        }
      ]
    },
    {
      "cell_type": "markdown",
      "metadata": {
        "id": "VoCieja-iCj2"
      },
      "source": [
        "# P8 - Curva Precision Recall"
      ]
    },
    {
      "cell_type": "markdown",
      "metadata": {
        "id": "tK9nR_vtumsx"
      },
      "source": [
        "Se genera una función que, dado un conjunto de validación separado en características y clases, y un clasificador entrenado, entregue un gráfico de la curva Precision-Recall (omitible si, en conjunto con los otros parámetros, se añade un booleano ``False''), en conjunto con la precisión promedio:\n"
      ]
    },
    {
      "cell_type": "code",
      "metadata": {
        "id": "veIETcCXunFa"
      },
      "source": [
        "def Generador_PRC(X_Val, Y_Val, Clasificador, Plot = True):\n",
        "  Score = Clasificador.decision_function(X_Val)\n",
        "  PR, RC, thres = metrics.precision_recall_curve(Y_Val, Score)\n",
        "  AP = metrics.average_precision_score(Y_Val, Score)\n",
        "  if Plot:\n",
        "    plt.figure(figsize=(7, 6))\n",
        "    plt.plot(RC, PR, label='PRC (AP = %0.4f)' % AP)\n",
        "    plt.legend(loc='best')\n",
        "    plt.title(\"Curva Precision v/s Recall\")\n",
        "    plt.xlabel(\"Recall\")\n",
        "    plt.ylabel(\"Precision\")\n",
        "    plt.show()\n",
        "  return AP"
      ],
      "execution_count": null,
      "outputs": []
    },
    {
      "cell_type": "markdown",
      "metadata": {
        "id": "eNvso5cstMl0"
      },
      "source": [
        "Se evalúa lo anterior con el conjunto de validación y el clasificador lineal de la parte 5:"
      ]
    },
    {
      "cell_type": "code",
      "metadata": {
        "id": "Ms_ZGMTsPWtV",
        "colab": {
          "base_uri": "https://localhost:8080/",
          "height": 421
        },
        "outputId": "5eec014f-8806-413b-f117-432ed039f9b4"
      },
      "source": [
        "PRC_Lineal = Generador_PRC(X_Validation, Y_Validation, Clasificador_Lineal)\n",
        "print('Average Precision de clasificador lineal:', PRC_Lineal)"
      ],
      "execution_count": null,
      "outputs": [
        {
          "output_type": "display_data",
          "data": {
            "image/png": "[encoded data removed]",
            "text/plain": [
              "<Figure size 504x432 with 1 Axes>"
            ]
          },
          "metadata": {
            "tags": [],
            "needs_background": "light"
          }
        },
        {
          "output_type": "stream",
          "text": [
            "Average Precision de clasificador lineal: 0.987670673208853\n"
          ],
          "name": "stdout"
        }
      ]
    },
    {
      "cell_type": "markdown",
      "metadata": {
        "id": "ntuTzLj8iDFP"
      },
      "source": [
        "# P9 - Kernel RBF"
      ]
    },
    {
      "cell_type": "markdown",
      "metadata": {
        "id": "piDI7Z4gYTvK"
      },
      "source": [
        "**Kernel RBF:**"
      ]
    },
    {
      "cell_type": "markdown",
      "metadata": {
        "id": "f2bK64lMar6U"
      },
      "source": [
        "Construcción y entrenamiento del clasificador:"
      ]
    },
    {
      "cell_type": "code",
      "metadata": {
        "id": "AK-MejxuYSxQ",
        "colab": {
          "base_uri": "https://localhost:8080/",
          "height": 218
        },
        "outputId": "25f3c9ca-f8fb-4343-c84e-b54cfb1e6ce6"
      },
      "source": [
        "Valores_C = [0.01,0.1,1,10,100]\n",
        "Sigmas = [0.001, 0.01, 0.1, 1]\n",
        "Parametros = {'C': Valores_C, 'gamma' : Sigmas}\n",
        "Clasificador_RBF = Constructor_Clasificador('rbf', False, 5, Parametros)\n",
        "Clasificador_RBF.fit(X_Training, Y_Training) # Entrenamiento del clasificador"
      ],
      "execution_count": null,
      "outputs": [
        {
          "output_type": "execute_result",
          "data": {
            "text/plain": [
              "GridSearchCV(cv=5, error_score=nan,\n",
              "             estimator=SVC(C=1.0, break_ties=False, cache_size=200,\n",
              "                           class_weight=None, coef0=0.0,\n",
              "                           decision_function_shape='ovr', degree=3,\n",
              "                           gamma='scale', kernel='rbf', max_iter=-1,\n",
              "                           probability=False, random_state=None, shrinking=True,\n",
              "                           tol=0.001, verbose=False),\n",
              "             iid='deprecated', n_jobs=None,\n",
              "             param_grid={'C': [0.01, 0.1, 1, 10, 100],\n",
              "                         'gamma': [0.001, 0.01, 0.1, 1]},\n",
              "             pre_dispatch='2*n_jobs', refit=True, return_train_score=False,\n",
              "             scoring=None, verbose=0)"
            ]
          },
          "metadata": {
            "tags": []
          },
          "execution_count": 22
        }
      ]
    },
    {
      "cell_type": "markdown",
      "metadata": {
        "id": "d5fpMgJQa6yA"
      },
      "source": [
        "Matriz de confusión:"
      ]
    },
    {
      "cell_type": "code",
      "metadata": {
        "id": "8IDqH78xa67-",
        "colab": {
          "base_uri": "https://localhost:8080/",
          "height": 50
        },
        "outputId": "b59dcf54-e685-43c9-d21c-7a5bed576596"
      },
      "source": [
        "Matriz_Confusion(X_Validation, Y_Validation, Clasificador_RBF)"
      ],
      "execution_count": null,
      "outputs": [
        {
          "output_type": "execute_result",
          "data": {
            "text/plain": [
              "array([[323,   5],\n",
              "       [ 27, 301]])"
            ]
          },
          "metadata": {
            "tags": []
          },
          "execution_count": 23
        }
      ]
    },
    {
      "cell_type": "markdown",
      "metadata": {
        "id": "n-k_aVo5bh3M"
      },
      "source": [
        "Generador de Curva ROC y Área bajo la curva:"
      ]
    },
    {
      "cell_type": "code",
      "metadata": {
        "id": "9s7PWJxkbiWV",
        "colab": {
          "base_uri": "https://localhost:8080/",
          "height": 421
        },
        "outputId": "f421f612-de04-4dd7-d973-72d36e5b0486"
      },
      "source": [
        "ROC_RBF = Generador_ROC_AUC(X_Validation, Y_Validation, Clasificador_RBF)\n",
        "print('Área bajo la curva de clasificador RBF :',ROC_RBF)"
      ],
      "execution_count": null,
      "outputs": [
        {
          "output_type": "display_data",
          "data": {
            "image/png": "[encoded data removed]",
            "text/plain": [
              "<Figure size 504x432 with 1 Axes>"
            ]
          },
          "metadata": {
            "tags": [],
            "needs_background": "light"
          }
        },
        {
          "output_type": "stream",
          "text": [
            "Área bajo la curva de clasificador RBF : 0.9750799375371803\n"
          ],
          "name": "stdout"
        }
      ]
    },
    {
      "cell_type": "markdown",
      "metadata": {
        "id": "GGiLtfthcU_9"
      },
      "source": [
        "Curva Precision Recall:"
      ]
    },
    {
      "cell_type": "code",
      "metadata": {
        "id": "Mwn_TS2GcTi6",
        "colab": {
          "base_uri": "https://localhost:8080/",
          "height": 421
        },
        "outputId": "80bf22ed-049c-4d4a-825c-3c721f826588"
      },
      "source": [
        "PRC_RBF = Generador_PRC(X_Validation, Y_Validation, Clasificador_RBF)\n",
        "print('Precisión promedio de clasificador RBF:',PRC_RBF)"
      ],
      "execution_count": null,
      "outputs": [
        {
          "output_type": "display_data",
          "data": {
            "image/png": "[encoded data removed]",
            "text/plain": [
              "<Figure size 504x432 with 1 Axes>"
            ]
          },
          "metadata": {
            "tags": [],
            "needs_background": "light"
          }
        },
        {
          "output_type": "stream",
          "text": [
            "Precisión promedio de clasificador RBF: 0.9832341633539389\n"
          ],
          "name": "stdout"
        }
      ]
    },
    {
      "cell_type": "markdown",
      "metadata": {
        "id": "JsxYuv8JbuUP"
      },
      "source": [
        "# P9 - Kernel Polinomial"
      ]
    },
    {
      "cell_type": "markdown",
      "metadata": {
        "id": "-PEiFzSUZmMe"
      },
      "source": [
        "**Kernel Polinomial:**"
      ]
    },
    {
      "cell_type": "markdown",
      "metadata": {
        "id": "KVe7rYpqZOz0"
      },
      "source": [
        "Construcción y entrenamiento del clasificador:"
      ]
    },
    {
      "cell_type": "code",
      "metadata": {
        "id": "ps6ed6c6iJdQ",
        "colab": {
          "base_uri": "https://localhost:8080/",
          "height": 202
        },
        "outputId": "e5cf76a8-64ca-4472-d529-4b47bb38f94f"
      },
      "source": [
        "Valores_C = [0.01,0.1,1,10,100]\n",
        "Grados = [2, 3]\n",
        "Parametros = {'C': Valores_C, 'degree' : Grados}\n",
        "Clasificador_Poly = Constructor_Clasificador('poly', False, 5, Parametros)\n",
        "Clasificador_Poly.fit(X_Training, Y_Training) # Entrenamiento del clasificador"
      ],
      "execution_count": null,
      "outputs": [
        {
          "output_type": "execute_result",
          "data": {
            "text/plain": [
              "GridSearchCV(cv=5, error_score=nan,\n",
              "             estimator=SVC(C=1.0, break_ties=False, cache_size=200,\n",
              "                           class_weight=None, coef0=0.0,\n",
              "                           decision_function_shape='ovr', degree=3,\n",
              "                           gamma='scale', kernel='poly', max_iter=-1,\n",
              "                           probability=False, random_state=None, shrinking=True,\n",
              "                           tol=0.001, verbose=False),\n",
              "             iid='deprecated', n_jobs=None,\n",
              "             param_grid={'C': [0.01, 0.1, 1, 10, 100], 'degree': [2, 3]},\n",
              "             pre_dispatch='2*n_jobs', refit=True, return_train_score=False,\n",
              "             scoring=None, verbose=0)"
            ]
          },
          "metadata": {
            "tags": []
          },
          "execution_count": 26
        }
      ]
    },
    {
      "cell_type": "markdown",
      "metadata": {
        "id": "wjiGtDraciVn"
      },
      "source": [
        "Matriz de confusión:"
      ]
    },
    {
      "cell_type": "code",
      "metadata": {
        "id": "4GgVEBdcciVo",
        "colab": {
          "base_uri": "https://localhost:8080/",
          "height": 50
        },
        "outputId": "2597842d-7c9b-4dce-de57-0703563902f6"
      },
      "source": [
        "Matriz_Confusion(X_Validation, Y_Validation, Clasificador_Poly)"
      ],
      "execution_count": null,
      "outputs": [
        {
          "output_type": "execute_result",
          "data": {
            "text/plain": [
              "array([[326,   2],\n",
              "       [ 28, 300]])"
            ]
          },
          "metadata": {
            "tags": []
          },
          "execution_count": 27
        }
      ]
    },
    {
      "cell_type": "markdown",
      "metadata": {
        "id": "bh2014lzciVr"
      },
      "source": [
        "Generador de Curva ROC y Área bajo la curva:"
      ]
    },
    {
      "cell_type": "code",
      "metadata": {
        "id": "cmzRulhWciVs",
        "colab": {
          "base_uri": "https://localhost:8080/",
          "height": 421
        },
        "outputId": "07fca04f-445f-42c3-f0f1-214a60cba36d"
      },
      "source": [
        "ROC_Poly = Generador_ROC_AUC(X_Validation, Y_Validation, Clasificador_Poly)\n",
        "print('Área bajo la curva de clasificador Polinomial :',ROC_Poly)"
      ],
      "execution_count": null,
      "outputs": [
        {
          "output_type": "display_data",
          "data": {
            "image/png": "[encoded data removed]",
            "text/plain": [
              "<Figure size 504x432 with 1 Axes>"
            ]
          },
          "metadata": {
            "tags": [],
            "needs_background": "light"
          }
        },
        {
          "output_type": "stream",
          "text": [
            "Área bajo la curva de clasificador Polinomial : 0.9777848007138608\n"
          ],
          "name": "stdout"
        }
      ]
    },
    {
      "cell_type": "markdown",
      "metadata": {
        "id": "g2VVkGJ4ciVv"
      },
      "source": [
        "Curva Precision Recall:"
      ]
    },
    {
      "cell_type": "code",
      "metadata": {
        "id": "oa4IvV5RciVv",
        "colab": {
          "base_uri": "https://localhost:8080/",
          "height": 421
        },
        "outputId": "2af23a3f-b66e-49da-f3f6-4144a1168da7"
      },
      "source": [
        "PRC_Poly = Generador_PRC(X_Validation, Y_Validation, Clasificador_Poly)\n",
        "print('Precisión promedio de clasificador Polinomial:',PRC_Poly)"
      ],
      "execution_count": null,
      "outputs": [
        {
          "output_type": "display_data",
          "data": {
            "image/png": "[encoded data removed]",
            "text/plain": [
              "<Figure size 504x432 with 1 Axes>"
            ]
          },
          "metadata": {
            "tags": [],
            "needs_background": "light"
          }
        },
        {
          "output_type": "stream",
          "text": [
            "Precisión promedio de clasificador Polinomial: 0.9845325305883483\n"
          ],
          "name": "stdout"
        }
      ]
    },
    {
      "cell_type": "markdown",
      "metadata": {
        "id": "RwNoBbxwiIki"
      },
      "source": [
        "# P10 - Mejor Clasificador"
      ]
    },
    {
      "cell_type": "markdown",
      "metadata": {
        "id": "fznavUDqiKj7"
      },
      "source": [
        "Se observan los desempeños de los clasificadores de acuerdo a las métricas generadas en la P6, P7, y P8:"
      ]
    },
    {
      "cell_type": "code",
      "metadata": {
        "id": "7DwcsDjPiKrj",
        "colab": {
          "base_uri": "https://localhost:8080/",
          "height": 319
        },
        "outputId": "2cb417db-2e4c-494a-eaeb-d44eb7c1fb7f"
      },
      "source": [
        "Poly_MC = Matriz_Confusion(X_Validation, Y_Validation, Clasificador_Poly)\n",
        "RBF_MC = Matriz_Confusion(X_Validation, Y_Validation, Clasificador_RBF)\n",
        "Lineal_MC = Matriz_Confusion(X_Validation, Y_Validation, Clasificador_Lineal)\n",
        "print('Matriz de confusión de clasificador Polinomial:')\n",
        "print(Poly_MC)\n",
        "print('Matriz de confusión de clasificador RBF:')\n",
        "print(RBF_MC )\n",
        "print('Matriz de confusión de clasificador Lineal:')\n",
        "print(Lineal_MC )\n",
        "print('-------------------------------')\n",
        "Poly_PRC = Generador_PRC(X_Validation, Y_Validation, Clasificador_Poly, False)\n",
        "RBF_PRC = Generador_PRC(X_Validation, Y_Validation, Clasificador_RBF, False)\n",
        "Lineal_PRC = Generador_PRC(X_Validation, Y_Validation, Clasificador_Lineal, False)\n",
        "print('Precisión promedio de clasificador Polinomial:',Poly_PRC)\n",
        "print('Precisión promedio de clasificador RBF:',RBF_PRC)\n",
        "print('Precisión promedio de clasificador Lineal:',Lineal_PRC)\n",
        "print('-------------------------------')\n",
        "Poly_ROC = Generador_ROC_AUC(X_Validation, Y_Validation, Clasificador_Poly, False)\n",
        "RBF_ROC = Generador_ROC_AUC(X_Validation, Y_Validation, Clasificador_RBF, False)\n",
        "Lineal_ROC = Generador_ROC_AUC(X_Validation, Y_Validation, Clasificador_Lineal, False)\n",
        "print('Área bajo la curva de clasificador Polinomial :',Poly_ROC)\n",
        "print('Área bajo la curva de clasificador RBF:',RBF_ROC)\n",
        "print('Área bajo la curva de clasificador Lineal:',Lineal_ROC)\n",
        "print('-------------------------------')"
      ],
      "execution_count": null,
      "outputs": [
        {
          "output_type": "stream",
          "text": [
            "Matriz de confusión de clasificador Polinomial:\n",
            "[[326   2]\n",
            " [ 28 300]]\n",
            "Matriz de confusión de clasificador RBF:\n",
            "[[323   5]\n",
            " [ 27 301]]\n",
            "Matriz de confusión de clasificador Lineal:\n",
            "[[326   2]\n",
            " [ 28 300]]\n",
            "-------------------------------\n",
            "Precisión promedio de clasificador Polinomial: 0.9845325305883483\n",
            "Precisión promedio de clasificador RBF: 0.9832341633539389\n",
            "Precisión promedio de clasificador Lineal: 0.987670673208853\n",
            "-------------------------------\n",
            "Área bajo la curva de clasificador Polinomial : 0.9777848007138608\n",
            "Área bajo la curva de clasificador RBF: 0.9750799375371803\n",
            "Área bajo la curva de clasificador Lineal: 0.9829063801308745\n",
            "-------------------------------\n"
          ],
          "name": "stdout"
        }
      ]
    },
    {
      "cell_type": "markdown",
      "metadata": {
        "id": "0i1L1a_brqLX"
      },
      "source": [
        "De acuerdo a los resultados anteriores, el **clasificador Lineal** resulta ser el mejor clasificador, por tener mayor área bajo la curva y precisión promedio por sobre los otros dos clasificadores. Por otra parte, este tiene la misma matriz de confusión que el clasificador polinomial, y ambas matrices son mejores que la matriz generada por el clasificador RBF."
      ]
    },
    {
      "cell_type": "code",
      "metadata": {
        "id": "D1QJxjFhDP2b",
        "colab": {
          "base_uri": "https://localhost:8080/",
          "height": 34
        },
        "outputId": "c91bcefd-ec56-4322-96a3-6dd6e5874043"
      },
      "source": [
        "Y_Predict = Clasificador_Lineal.predict(X_Test) # Pruebo el clasificador con conjunto Test\n",
        "print(\"Accuracy:\",metrics.accuracy_score(Y_Test, Y_Predict)) # Mido la exactitud"
      ],
      "execution_count": null,
      "outputs": [
        {
          "output_type": "stream",
          "text": [
            "Accuracy: 0.9405487804878049\n"
          ],
          "name": "stdout"
        }
      ]
    }
  ]
}