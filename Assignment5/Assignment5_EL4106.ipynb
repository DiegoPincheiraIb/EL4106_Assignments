{
  "nbformat": 4,
  "nbformat_minor": 0,
  "metadata": {
    "colab": {
      "name": "Assignment5_EL4106.ipynb",
      "provenance": [],
      "authorship_tag": "ABX9TyOZEk71L2VmLnJv222/KOH9",
      "include_colab_link": true
    },
    "kernelspec": {
      "name": "python3",
      "display_name": "Python 3"
    }
  },
  "cells": [
    {
      "cell_type": "markdown",
      "metadata": {
        "id": "view-in-github",
        "colab_type": "text"
      },
      "source": [
        "<a href=\"https://colab.research.google.com/github/DiegoPincheiraIb/EL4106_Assignments/blob/main/Assignment5/Assignment5_EL4106.ipynb\" target=\"_parent\"><img src=\"https://colab.research.google.com/assets/colab-badge.svg\" alt=\"Open In Colab\"/></a>"
      ]
    },
    {
      "cell_type": "markdown",
      "metadata": {
        "id": "STkot7H1C3kI"
      },
      "source": [
        "# Configuraciones preliminares"
      ]
    },
    {
      "cell_type": "markdown",
      "metadata": {
        "id": "VWuhqz-Ua04o"
      },
      "source": [
        "## Importación de librerias:"
      ]
    },
    {
      "cell_type": "code",
      "metadata": {
        "id": "-1XcGOgTa0LG"
      },
      "source": [
        "from time import time\n",
        "import numpy as np\n",
        "import matplotlib.pyplot as plt\n",
        "import pandas as pd\n",
        "\n",
        "from sklearn import metrics\n",
        "from sklearn.cluster import KMeans, DBSCAN, AgglomerativeClustering\n",
        "from sklearn.datasets import load_digits\n",
        "from sklearn.decomposition import PCA\n",
        "from sklearn.preprocessing import scale\n",
        "\n",
        "np.random.seed(42)"
      ],
      "execution_count": null,
      "outputs": []
    },
    {
      "cell_type": "markdown",
      "metadata": {
        "id": "J7o5-77YrvH2"
      },
      "source": [
        "## Importación de archivos:"
      ]
    },
    {
      "cell_type": "code",
      "metadata": {
        "id": "fOVSuTFwe50Q",
        "colab": {
          "resources": {
            "http://localhost:8080/nbextensions/google.colab/files.js": {
              "data": "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",
              "ok": true,
              "headers": [
                [
                  "content-type",
                  "application/javascript"
                ]
              ],
              "status": 200,
              "status_text": ""
            }
          },
          "base_uri": "https://localhost:8080/",
          "height": 90
        },
        "outputId": "de5201f5-6153-4a03-be53-2065fe9d1b5c"
      },
      "source": [
        "#Comentar esto si no se usa colaboratory\n",
        "from google.colab import files\n",
        "uploaded = files.upload()"
      ],
      "execution_count": null,
      "outputs": [
        {
          "output_type": "display_data",
          "data": {
            "text/html": [
              "\n",
              "     <input type=\"file\" id=\"files-b9dc1749-6833-47fa-ba73-aace7f7659a3\" name=\"files[]\" multiple disabled\n",
              "        style=\"border:none\" />\n",
              "     <output id=\"result-b9dc1749-6833-47fa-ba73-aace7f7659a3\">\n",
              "      Upload widget is only available when the cell has been executed in the\n",
              "      current browser session. Please rerun this cell to enable.\n",
              "      </output>\n",
              "      <script src=\"/nbextensions/google.colab/files.js\"></script> "
            ],
            "text/plain": [
              "<IPython.core.display.HTML object>"
            ]
          },
          "metadata": {
            "tags": []
          }
        },
        {
          "output_type": "stream",
          "text": [
            "Saving Data_Cortex_Nuclear.xls to Data_Cortex_Nuclear.xls\n"
          ],
          "name": "stdout"
        }
      ]
    },
    {
      "cell_type": "markdown",
      "metadata": {
        "id": "PjJTGvg-rxKG"
      },
      "source": [
        "# Procesamiento de datos"
      ]
    },
    {
      "cell_type": "code",
      "metadata": {
        "id": "56A7XuPGidLK",
        "colab": {
          "base_uri": "https://localhost:8080/"
        },
        "outputId": "b0a4441d-6845-4d66-d0b6-7415ee5aa74c"
      },
      "source": [
        "excel_file = 'Data_Cortex_Nuclear.xls'\n",
        "Datos_Iniciales = pd.read_excel(excel_file)\n",
        "## ---- Procesamiento de Dataframe original\n",
        "del Datos_Iniciales['MouseID'], Datos_Iniciales['Behavior'], Datos_Iniciales['Genotype'], Datos_Iniciales['Treatment'], Datos_Iniciales['BCL2_N']\n",
        "# Se eliminan las filas con datos NaN\n",
        "Datos_Iniciales_Copia = Datos_Iniciales.copy()\n",
        "Datos_Iniciales = Datos_Iniciales_Copia.dropna()\n",
        "print(Datos_Iniciales)"
      ],
      "execution_count": null,
      "outputs": [
        {
          "output_type": "stream",
          "text": [
            "      DYRK1A_N   ITSN1_N    BDNF_N  ...  H3MeK4_N    CaNA_N   class\n",
            "0     0.503644  0.747193  0.430175  ...  0.128186  1.675652  c-CS-m\n",
            "1     0.514617  0.689064  0.411770  ...  0.131119  1.743610  c-CS-m\n",
            "2     0.509183  0.730247  0.418309  ...  0.127431  1.926427  c-CS-m\n",
            "3     0.442107  0.617076  0.358626  ...  0.146901  1.700563  c-CS-m\n",
            "4     0.434940  0.617430  0.358802  ...  0.148380  1.839730  c-CS-m\n",
            "...        ...       ...       ...  ...       ...       ...     ...\n",
            "1075  0.254860  0.463591  0.254860  ...  0.328327  1.364823  t-SC-s\n",
            "1076  0.272198  0.474163  0.251638  ...  0.293435  1.364478  t-SC-s\n",
            "1077  0.228700  0.395179  0.234118  ...  0.355213  1.430825  t-SC-s\n",
            "1078  0.221242  0.412894  0.243974  ...  0.365353  1.404031  t-SC-s\n",
            "1079  0.302626  0.461059  0.256564  ...  0.365278  1.370999  t-SC-s\n",
            "\n",
            "[612 rows x 77 columns]\n"
          ],
          "name": "stdout"
        }
      ]
    },
    {
      "cell_type": "code",
      "metadata": {
        "id": "oA3WTsEvucz1",
        "colab": {
          "base_uri": "https://localhost:8080/"
        },
        "outputId": "ec86e003-938c-4e43-8101-3ac586b76063"
      },
      "source": [
        "X_datos = Datos_Iniciales.iloc[:,:-1].values\n",
        "Y_datos = Datos_Iniciales.iloc[:,-1].values\n",
        "data = X_datos\n",
        "y_digits = Y_datos\n",
        "\n",
        "n_samples, n_features = data.shape\n",
        "n_digits = len(np.unique(y_digits))\n",
        "labels = y_digits\n",
        "\n",
        "sample_size = 300\n",
        "\n",
        "print(\"n_digits: %d, \\t n_samples %d, \\t n_features %d\"\n",
        "      % (n_digits, n_samples, n_features))\n"
      ],
      "execution_count": null,
      "outputs": [
        {
          "output_type": "stream",
          "text": [
            "n_digits: 8, \t n_samples 612, \t n_features 76\n"
          ],
          "name": "stdout"
        }
      ]
    },
    {
      "cell_type": "markdown",
      "metadata": {
        "id": "PuOYUVpJEuuD"
      },
      "source": [
        "# Clusters"
      ]
    },
    {
      "cell_type": "markdown",
      "metadata": {
        "id": "to5C51KQDNyO"
      },
      "source": [
        "## Funciones:"
      ]
    },
    {
      "cell_type": "markdown",
      "metadata": {
        "id": "y87gPsO0DP3k"
      },
      "source": [
        "### Función **bench_k_means**:"
      ]
    },
    {
      "cell_type": "code",
      "metadata": {
        "id": "G5f2WcLQzcG8"
      },
      "source": [
        "def bench_k_means(estimator, name, data):\n",
        "    t0 = time()\n",
        "    estimator.fit(data)\n",
        "    print('%-9s\\t%.2fs\\t%i\\t%.3f\\t%.3f\\t%.3f\\t%.3f\\t%.3f\\t%.3f\\t%.3f'\n",
        "          % (name, (time() - t0), estimator.inertia_,\n",
        "             metrics.homogeneity_score(labels, estimator.labels_),\n",
        "             metrics.completeness_score(labels, estimator.labels_),\n",
        "             metrics.v_measure_score(labels, estimator.labels_),\n",
        "             metrics.adjusted_rand_score(labels, estimator.labels_),\n",
        "             metrics.adjusted_mutual_info_score(labels,  estimator.labels_),\n",
        "             metrics.silhouette_score(data, estimator.labels_,\n",
        "                                      metric='euclidean',\n",
        "                                      sample_size=sample_size), estimator.n_clusters))"
      ],
      "execution_count": null,
      "outputs": []
    },
    {
      "cell_type": "markdown",
      "metadata": {
        "id": "Ce46s8zoETvA"
      },
      "source": [
        "### Función **bench_DBSCAN**:"
      ]
    },
    {
      "cell_type": "code",
      "metadata": {
        "id": "JtDCZ3G0zmn8"
      },
      "source": [
        "def bench_DBSCAN(estimator, name, data, uso_outliers):\n",
        "    t0 = time()\n",
        "    estimator.fit(data)\n",
        "    labels_est = estimator.labels_\n",
        "    labels_originales = labels\n",
        "    if uso_outliers == False:\n",
        "      labels_new = np.where(labels_est==-1, None, labels_est)\n",
        "      # a partir de aqui, experimentar:\n",
        "      index_non_none = [i for i, val in enumerate(labels_new) if val != None]\n",
        "      labels_originales_new = np.zeros(len(index_non_none))\n",
        "      labels_originales_new = [labels_originales[i] for i in index_non_none]\n",
        "      labels_originales = labels_originales_new\n",
        "      labels_est = np.zeros(len(index_non_none))\n",
        "      labels_est = [labels_new[i] for i in index_non_none]\n",
        "      data_new = data[index_non_none]\n",
        "      data = data_new\n",
        "      tamano = len(set(labels_est))\n",
        "      if tamano == 0 or tamano == 1:\n",
        "        print('%-9s\\t%.2fs\\t%s\\t%s\\t%s\\t%s\\t%s\\t%s\\t%s\\t%.3f'\n",
        "              % (name, (time() - t0), 'NaN',\n",
        "                'NaN',\n",
        "                'NaN',\n",
        "                'NaN',\n",
        "                'NaN',\n",
        "                'NaN',\n",
        "                'NaN',\n",
        "                tamano))\n",
        "      else:\n",
        "        #print(labels_est)\n",
        "        print('%-9s\\t%.2fs\\t%s\\t%.3f\\t%.3f\\t%.3f\\t%.3f\\t%.3f\\t%.3f\\t%.3f'\n",
        "              % (name, (time() - t0), 'NaN',\n",
        "                metrics.homogeneity_score(labels_originales, labels_est),\n",
        "                metrics.completeness_score(labels_originales, labels_est),\n",
        "                metrics.v_measure_score(labels_originales, labels_est),\n",
        "                metrics.adjusted_rand_score(labels_originales, labels_est),\n",
        "                metrics.adjusted_mutual_info_score(labels_originales,  labels_est),\n",
        "                metrics.silhouette_score(data, labels_est,\n",
        "                                      metric='euclidean',\n",
        "                                      sample_size=None), tamano))\n",
        "    else:\n",
        "      tamano = len(set(labels_est))\n",
        "      if tamano == 0 or tamano == 1:\n",
        "        print('%-9s\\t%.2fs\\t%s\\t%s\\t%s\\t%s\\t%s\\t%s\\t%s\\t%.3f'\n",
        "              % (name, (time() - t0), 'NaN',\n",
        "                'NaN',\n",
        "                'NaN',\n",
        "                'NaN',\n",
        "                'NaN',\n",
        "                'NaN',\n",
        "                'NaN',\n",
        "                tamano))\n",
        "      else:\n",
        "        #print(labels_est)\n",
        "        print('%-9s\\t%.2fs\\t%s\\t%.3f\\t%.3f\\t%.3f\\t%.3f\\t%.3f\\t%.3f\\t%.3f'\n",
        "              % (name, (time() - t0), 'NaN',\n",
        "                metrics.homogeneity_score(labels_originales, labels_est),\n",
        "                metrics.completeness_score(labels_originales, labels_est),\n",
        "                metrics.v_measure_score(labels_originales, labels_est),\n",
        "                metrics.adjusted_rand_score(labels_originales, labels_est),\n",
        "                metrics.adjusted_mutual_info_score(labels_originales,  labels_est),\n",
        "                metrics.silhouette_score(data, labels_est,\n",
        "                                      metric='euclidean',\n",
        "                                      sample_size=None), tamano))"
      ],
      "execution_count": null,
      "outputs": []
    },
    {
      "cell_type": "code",
      "metadata": {
        "id": "xxReSzFdK_q_",
        "colab": {
          "base_uri": "https://localhost:8080/",
          "height": 34
        },
        "outputId": "ac514e56-8810-42ee-f7bf-5d5488b0e5d5"
      },
      "source": [
        "bench_DBSCAN(DBSCAN(eps = 0.1, min_samples = 5), name=\"dbscan\", data=data, uso_outliers=False)"
      ],
      "execution_count": null,
      "outputs": [
        {
          "output_type": "stream",
          "text": [
            "dbscan   \t0.03s\tNaN\tNaN\tNaN\tNaN\tNaN\tNaN\tNaN\t0.000\n"
          ],
          "name": "stdout"
        }
      ]
    },
    {
      "cell_type": "markdown",
      "metadata": {
        "id": "fNhLR6F4FQ4G"
      },
      "source": [
        "## Código principal:"
      ]
    },
    {
      "cell_type": "markdown",
      "metadata": {
        "id": "qiL6sViSFc4O"
      },
      "source": [
        "## Cálculo de clusters"
      ]
    },
    {
      "cell_type": "markdown",
      "metadata": {
        "id": "TeAdiiXUg3Ja"
      },
      "source": [
        "Hacer pruebas con distintas variantes de algoritmos:\n",
        "* a. K-Means (con inicialización al azar)\n",
        "* b. K-means++ \n",
        "* c. DBSCAN con épsilon por defecto\n",
        "* d. DBSCAN con épsilon 0.7\n",
        "* e. DBSCAN con épsilon 0.2\n",
        "* f. DBSCAN con épsilon por defecto, agregando outliers a cluster extra\n",
        "* g. DBSCAN con épsilon 0.7, agregando outliers a cluster extra\n",
        "* h. DBSCAN con épsilon 0.2, agregando outliers a cluster extra\n",
        "* i. Clustering aglomerativo\n",
        "* j. Repetir todas las pruebas anteriores, después de usar PCA sobre los datos para reducirlos a 2 dimensiones."
      ]
    },
    {
      "cell_type": "code",
      "metadata": {
        "id": "cgQPzgATFV73",
        "colab": {
          "base_uri": "https://localhost:8080/",
          "height": 437
        },
        "outputId": "63e4683e-3225-4dd6-bc89-0917dfdfdad8"
      },
      "source": [
        "print(90 * '_')\n",
        "print('Sin PCA:')\n",
        "print('init\\t\\ttime\\tinertia\\thomo\\tcompl\\tv-meas\\tARI\\tAMI\\tsil.\\tclusters')\n",
        "## SIN PCA\n",
        "# K-Means random init\n",
        "bench_k_means(KMeans(init='random', n_clusters=n_digits, n_init=10),\n",
        "              name=\"random\", data=data)\n",
        "# K-means ++\n",
        "bench_k_means(KMeans(init='k-means++', n_clusters=n_digits, n_init=10),\n",
        "              name=\"k-means++\", data=data)\n",
        "# DBSCAN, epsilon por defecto\n",
        "bench_DBSCAN(DBSCAN(min_samples = 5), name=\"dbscan_F_df\", data=data, uso_outliers=False)\n",
        "# DBSCAN con eps = 0.7\n",
        "bench_DBSCAN(DBSCAN(eps = 0.7, min_samples = 5), name=\"dbscan_F_0.7\", data=data, uso_outliers=False)\n",
        "# DBSCAN con eps = 0.2\n",
        "bench_DBSCAN(DBSCAN(eps = 0.2, min_samples = 5), name=\"dbscan_F_0.2\", data=data, uso_outliers=False)\n",
        "# DBSCAN, epsilon por defecto, outliers = True\n",
        "bench_DBSCAN(DBSCAN(min_samples = 5), name=\"dbscan_T_def\", data=data, uso_outliers=True)\n",
        "# DBSCAN con eps = 0.7, outliers = True\n",
        "bench_DBSCAN(DBSCAN(eps = 0.7, min_samples = 5), name=\"dbscan_T_0.7\", data=data, uso_outliers=True)\n",
        "# DBSCAN con eps = 0.2, outliers = True\n",
        "bench_DBSCAN(DBSCAN(eps = 0.2, min_samples = 5), name=\"dbscan_T_0.2\", data=data, uso_outliers=True)\n",
        "# Clustering Aglomerativo\n",
        "bench_DBSCAN(AgglomerativeClustering(n_clusters=n_digits,linkage=\"ward\"), name=\"Agglo\", data=data, uso_outliers=True)\n",
        "##############################################################################\n",
        "print('')\n",
        "## CON PCA\n",
        "print('Con PCA:')\n",
        "print('init\\t\\ttime\\tinertia\\thomo\\tcompl\\tv-meas\\tARI\\tAMI\\tsil.\\tclusters')\n",
        "pca = PCA(n_components=2).fit(data)\n",
        "data_pca = pca.transform(data)\n",
        "# K-Means random init\n",
        "bench_k_means(KMeans(init='random', n_clusters=n_digits, n_init=10),\n",
        "              name=\"random_PCA\", data=data_pca)\n",
        "# K-means ++\n",
        "bench_k_means(KMeans(init='k-means++', n_clusters=n_digits, n_init=10),\n",
        "              name=\"k-means++_PCA\", data=data_pca)\n",
        "# DBSCAN, epsilon por defecto\n",
        "bench_DBSCAN(DBSCAN(min_samples = 5), name=\"dbscan_F_df\", data=data_pca, uso_outliers=False)\n",
        "# DBSCAN con eps = 0.7\n",
        "bench_DBSCAN(DBSCAN(eps = 0.7, min_samples = 5), name=\"dbscan_F_0.7\", data=data_pca, uso_outliers=False)\n",
        "# DBSCAN con eps = 0.2\n",
        "bench_DBSCAN(DBSCAN(eps = 0.2, min_samples = 5), name=\"dbscan_F_0.2\", data=data_pca, uso_outliers=False)\n",
        "# DBSCAN, epsilon por defecto, outliers = True\n",
        "bench_DBSCAN(DBSCAN(min_samples = 5), name=\"dbscan_T_df_P\", data=data_pca, uso_outliers=True)\n",
        "# DBSCAN con eps = 0.7, outliers = True\n",
        "bench_DBSCAN(DBSCAN(eps = 0.7, min_samples = 5), name=\"DBSCAN_T_0.7\", data=data_pca, uso_outliers=True)\n",
        "# DBSCAN con eps = 0.2, outliers = True\n",
        "bench_DBSCAN(DBSCAN(eps = 0.2, min_samples = 5), name=\"DBSCAN_T_0.2\", data=data_pca, uso_outliers=True)\n",
        "# Clustering Aglomerativo\n",
        "bench_DBSCAN(AgglomerativeClustering(n_clusters=n_digits,linkage=\"ward\"), name=\"Agglo\", data=data_pca, uso_outliers=True)\n",
        "print(90 * '_')\n"
      ],
      "execution_count": null,
      "outputs": [
        {
          "output_type": "stream",
          "text": [
            "__________________________________________________________________________________________\n",
            "Sin PCA:\n",
            "init\t\ttime\tinertia\thomo\tcompl\tv-meas\tARI\tAMI\tsil.\tclusters\n",
            "random   \t0.10s\t1125\t0.296\t0.298\t0.297\t0.140\t0.283\t0.208\t8.000\n",
            "k-means++\t0.18s\t1122\t0.305\t0.306\t0.305\t0.158\t0.291\t0.222\t8.000\n",
            "dbscan_F_df\t0.05s\tNaN\t1.000\t0.705\t0.827\t0.539\t0.771\t0.693\t12.000\n",
            "dbscan_F_0.7\t0.06s\tNaN\t0.975\t0.536\t0.692\t0.263\t0.630\t0.373\t43.000\n",
            "dbscan_F_0.2\t0.04s\tNaN\tNaN\tNaN\tNaN\tNaN\tNaN\tNaN\t0.000\n",
            "dbscan_T_def\t0.05s\tNaN\t0.107\t0.365\t0.165\t0.002\t0.113\t-0.349\t13.000\n",
            "dbscan_T_0.7\t0.06s\tNaN\t0.579\t0.425\t0.490\t0.072\t0.422\t-0.006\t44.000\n",
            "dbscan_T_0.2\t0.04s\tNaN\tNaN\tNaN\tNaN\tNaN\tNaN\tNaN\t1.000\n",
            "Agglo    \t0.02s\tNaN\t0.352\t0.356\t0.354\t0.168\t0.341\t0.159\t8.000\n",
            "\n",
            "Con PCA:\n",
            "init\t\ttime\tinertia\thomo\tcompl\tv-meas\tARI\tAMI\tsil.\tclusters\n",
            "random_PCA\t0.08s\t346\t0.214\t0.217\t0.215\t0.099\t0.199\t0.363\t8.000\n",
            "k-means++_PCA\t0.11s\t345\t0.215\t0.217\t0.216\t0.098\t0.200\t0.345\t8.000\n",
            "dbscan_F_df\t0.01s\tNaN\tNaN\tNaN\tNaN\tNaN\tNaN\tNaN\t1.000\n",
            "dbscan_F_0.7\t0.01s\tNaN\tNaN\tNaN\tNaN\tNaN\tNaN\tNaN\t1.000\n",
            "dbscan_F_0.2\t0.00s\tNaN\t0.284\t0.283\t0.284\t0.068\t0.212\t0.083\t20.000\n",
            "dbscan_T_df_P\t0.01s\tNaN\t0.006\t0.116\t0.011\t0.000\t0.005\t0.374\t2.000\n",
            "DBSCAN_T_0.7\t0.01s\tNaN\t0.005\t0.335\t0.010\t0.000\t0.005\t0.505\t2.000\n",
            "DBSCAN_T_0.2\t0.01s\tNaN\t0.195\t0.202\t0.198\t0.037\t0.143\t-0.205\t21.000\n",
            "Agglo    \t0.01s\tNaN\t0.219\t0.226\t0.223\t0.102\t0.206\t0.354\t8.000\n",
            "__________________________________________________________________________________________\n"
          ],
          "name": "stdout"
        }
      ]
    }
  ]
}